{
  "cells": [
    {
      "cell_type": "markdown",
      "metadata": {
        "id": "e-IqJAMkwnCF"
      },
      "source": [
        "# Advanced Retrieval with LangChain\n",
        "\n",
        "In the following notebook, we'll explore various methods of advanced retrieval using LangChain!\n",
        "\n",
        "We'll touch on:\n",
        "\n",
        "- Naive Retrieval\n",
        "- Best-Matching 25 (BM25)\n",
        "- Multi-Query Retrieval\n",
        "- Parent-Document Retrieval\n",
        "- Contextual Compression (a.k.a. Rerank)\n",
        "- Ensemble Retrieval\n",
        "- Semantic chunking\n",
        "\n",
        "We'll also discuss how these methods impact performance on our set of documents with a simple RAG chain.\n",
        "\n",
        "There will be two breakout rooms:\n",
        "\n",
        "- 🤝 Breakout Room Part #1\n",
        "  - Task 1: Getting Dependencies!\n",
        "  - Task 2: Data Collection and Preparation\n",
        "  - Task 3: Setting Up QDrant!\n",
        "  - Task 4-10: Retrieval Strategies\n",
        "- 🤝 Breakout Room Part #2\n",
        "  - Activity: Evaluate with Ragas"
      ]
    },
    {
      "cell_type": "markdown",
      "metadata": {
        "id": "4rKP3hgHivpe"
      },
      "source": [
        "# 🤝 Breakout Room Part #1"
      ]
    },
    {
      "cell_type": "markdown",
      "metadata": {
        "id": "3xes8oT-xHN7"
      },
      "source": [
        "## Task 1: Getting Dependencies!\n",
        "\n",
        "We're going to need a few specific LangChain community packages, like OpenAI (for our [LLM](https://platform.openai.com/docs/models) and [Embedding Model](https://platform.openai.com/docs/guides/embeddings)) and Cohere (for our [Reranker](https://cohere.com/rerank))."
      ]
    },
    {
      "cell_type": "code",
      "execution_count": 1,
      "metadata": {
        "colab": {
          "base_uri": "https://localhost:8080/"
        },
        "id": "MkgFAXWVW3wm",
        "outputId": "636db35c-f05a-4038-ec7a-02360bef2dae"
      },
      "outputs": [
        {
          "name": "stdout",
          "output_type": "stream",
          "text": [
            "Note: you may need to restart the kernel to use updated packages.\n"
          ]
        }
      ],
      "source": [
        "%pip install -qU \\\n",
        "    qdrant-client \\\n",
        "    langchain_openai \\\n",
        "    langchain_huggingface \\\n",
        "    langchain_core===0.2.39 \\\n",
        "    langchain \\\n",
        "    langchain_community \\\n",
        "    langchain-text-splitters \\\n",
        "    langchain-cohere \\\n",
        "    rank_bm25 \\\n",
        "    ragas \\\n",
        "    langchain-qdrant \\\n",
        "    langchain_experimental "
      ]
    },
    {
      "cell_type": "markdown",
      "metadata": {
        "id": "dKqYM4Eoxcov"
      },
      "source": [
        "We're also going to be leveraging [Qdrant's](https://qdrant.tech/documentation/frameworks/langchain/) (pronounced \"Quadrant\") VectorDB in \"memory\" mode (so we can leverage it locally in our colab environment)."
      ]
    },
    {
      "cell_type": "code",
      "execution_count": 2,
      "metadata": {
        "id": "s6xav5CxYnML"
      },
      "outputs": [],
      "source": [
        "# %pip uninstall  \\\n",
        "#     qdrant-client \\\n",
        "#     ragas==0.1.18  \\\n",
        "#     langsmith \\\n",
        "#     langchain-core \\\n",
        "#     langchain-community \\\n",
        "#     langchain-openai \\\n",
        "#     langchain-qdrant \\\n",
        "#     langchain_experimental  \\\n",
        "#     langchain-cohere \\\n",
        "#     rank_bm25 -y"
      ]
    },
    {
      "cell_type": "markdown",
      "metadata": {
        "id": "Z7OHJXzfyJyA"
      },
      "source": [
        "We'll also provide our OpenAI key, as well as our Cohere API key."
      ]
    },
    {
      "cell_type": "code",
      "execution_count": 3,
      "metadata": {
        "colab": {
          "base_uri": "https://localhost:8080/"
        },
        "id": "7LttlDQUYgSI",
        "outputId": "9dca95ab-4d02-4adf-ec3f-cb831326dc54"
      },
      "outputs": [],
      "source": [
        "import os\n",
        "import getpass\n",
        "\n",
        "os.environ[\"OPENAI_API_KEY\"] = getpass.getpass(\"Enter your OpenAI API Key:\")"
      ]
    },
    {
      "cell_type": "code",
      "execution_count": 83,
      "metadata": {
        "colab": {
          "base_uri": "https://localhost:8080/"
        },
        "id": "3iUahNiJyQbv",
        "outputId": "78bf06ef-2ee8-46c3-f73d-27958b4dd79b"
      },
      "outputs": [],
      "source": [
        "os.environ[\"COHERE_API_KEY\"] = getpass.getpass(\"Cohere API Key:\")"
      ]
    },
    {
      "cell_type": "markdown",
      "metadata": {
        "id": "B0pDRFEWSXvh"
      },
      "source": []
    },
    {
      "cell_type": "markdown",
      "metadata": {
        "id": "mw304iAFyRtl"
      },
      "source": [
        "## Task 2: Data Collection and Preparation\n",
        "\n",
        "We'll be using some reviews from the 4 movies in the John Wick franchise today to explore the different retrieval strategies.\n",
        "\n",
        "These were obtained from IMDB, and are available in the [AIM Data Repository](https://github.com/AI-Maker-Space/DataRepository)."
      ]
    },
    {
      "cell_type": "markdown",
      "metadata": {
        "id": "xXKHcZmKzDwT"
      },
      "source": [
        "### Data Collection\n",
        "\n",
        "We can simply `wget` these from GitHub.\n",
        "\n",
        "You could use any review data you wanted in this step - just be careful to make sure your metadata is aligned with your choice."
      ]
    },
    {
      "cell_type": "code",
      "execution_count": 5,
      "metadata": {
        "colab": {
          "base_uri": "https://localhost:8080/"
        },
        "id": "vbbSIGtzX3dS",
        "outputId": "0ce6514e-2479-4001-af24-824f987ce599"
      },
      "outputs": [
        {
          "name": "stdout",
          "output_type": "stream",
          "text": [
            "--2024-10-02 20:16:19--  https://raw.githubusercontent.com/AI-Maker-Space/DataRepository/main/jw1.csv\n",
            "Resolving raw.githubusercontent.com (raw.githubusercontent.com)... 2606:50c0:8000::154, 2606:50c0:8003::154, 2606:50c0:8001::154, ...\n",
            "Connecting to raw.githubusercontent.com (raw.githubusercontent.com)|2606:50c0:8000::154|:443... connected.\n",
            "HTTP request sent, awaiting response... 200 OK\n",
            "Length: 19628 (19K) [text/plain]\n",
            "Saving to: ‘john_wick_1.csv’\n",
            "\n",
            "john_wick_1.csv     100%[===================>]  19.17K  --.-KB/s    in 0.001s  \n",
            "\n",
            "2024-10-02 20:16:19 (29.6 MB/s) - ‘john_wick_1.csv’ saved [19628/19628]\n",
            "\n",
            "--2024-10-02 20:16:19--  https://raw.githubusercontent.com/AI-Maker-Space/DataRepository/main/jw2.csv\n",
            "Resolving raw.githubusercontent.com (raw.githubusercontent.com)... 2606:50c0:8000::154, 2606:50c0:8003::154, 2606:50c0:8001::154, ...\n",
            "Connecting to raw.githubusercontent.com (raw.githubusercontent.com)|2606:50c0:8000::154|:443... connected.\n",
            "HTTP request sent, awaiting response... 200 OK\n",
            "Length: 14747 (14K) [text/plain]\n",
            "Saving to: ‘john_wick_2.csv’\n",
            "\n",
            "john_wick_2.csv     100%[===================>]  14.40K  --.-KB/s    in 0.001s  \n",
            "\n",
            "2024-10-02 20:16:20 (17.2 MB/s) - ‘john_wick_2.csv’ saved [14747/14747]\n",
            "\n",
            "--2024-10-02 20:16:20--  https://raw.githubusercontent.com/AI-Maker-Space/DataRepository/main/jw3.csv\n",
            "Resolving raw.githubusercontent.com (raw.githubusercontent.com)... 2606:50c0:8000::154, 2606:50c0:8003::154, 2606:50c0:8001::154, ...\n",
            "Connecting to raw.githubusercontent.com (raw.githubusercontent.com)|2606:50c0:8000::154|:443... connected.\n",
            "HTTP request sent, awaiting response... 200 OK\n",
            "Length: 13888 (14K) [text/plain]\n",
            "Saving to: ‘john_wick_3.csv’\n",
            "\n",
            "john_wick_3.csv     100%[===================>]  13.56K  --.-KB/s    in 0.002s  \n",
            "\n",
            "2024-10-02 20:16:20 (7.09 MB/s) - ‘john_wick_3.csv’ saved [13888/13888]\n",
            "\n",
            "--2024-10-02 20:16:20--  https://raw.githubusercontent.com/AI-Maker-Space/DataRepository/main/jw4.csv\n",
            "Resolving raw.githubusercontent.com (raw.githubusercontent.com)... 2606:50c0:8000::154, 2606:50c0:8003::154, 2606:50c0:8001::154, ...\n",
            "Connecting to raw.githubusercontent.com (raw.githubusercontent.com)|2606:50c0:8000::154|:443... connected.\n",
            "HTTP request sent, awaiting response... 200 OK\n",
            "Length: 15109 (15K) [text/plain]\n",
            "Saving to: ‘john_wick_4.csv’\n",
            "\n",
            "john_wick_4.csv     100%[===================>]  14.75K  --.-KB/s    in 0.001s  \n",
            "\n",
            "2024-10-02 20:16:21 (17.2 MB/s) - ‘john_wick_4.csv’ saved [15109/15109]\n",
            "\n"
          ]
        }
      ],
      "source": [
        "!wget https://raw.githubusercontent.com/AI-Maker-Space/DataRepository/main/jw1.csv -O john_wick_1.csv\n",
        "!wget https://raw.githubusercontent.com/AI-Maker-Space/DataRepository/main/jw2.csv -O john_wick_2.csv\n",
        "!wget https://raw.githubusercontent.com/AI-Maker-Space/DataRepository/main/jw3.csv -O john_wick_3.csv\n",
        "!wget https://raw.githubusercontent.com/AI-Maker-Space/DataRepository/main/jw4.csv -O john_wick_4.csv"
      ]
    },
    {
      "cell_type": "markdown",
      "metadata": {
        "id": "A92NC2QZzCsi"
      },
      "source": [
        "### Data Preparation\n",
        "\n",
        "We want to make sure all our documents have the relevant metadata for the various retrieval strategies we're going to be applying today.\n",
        "\n",
        "- Self-Query: Wants as much metadata as we can provide\n",
        "- Time-weighted: Wants temporal data\n",
        "\n",
        "> NOTE: While we're creating a temporal relationship based on when these movies came out for illustrative purposes, it needs to be clear that the \"time-weighting\" in the Time-weighted Retriever is based on when the document was *accessed* last - not when it was created."
      ]
    },
    {
      "cell_type": "code",
      "execution_count": 6,
      "metadata": {
        "id": "GshBjVRJZ6p8"
      },
      "outputs": [],
      "source": [
        "from langchain_community.document_loaders.csv_loader import CSVLoader\n",
        "from datetime import datetime, timedelta\n",
        "from langchain_core.documents import Document\n",
        "\n",
        "documents : list[Document] = []\n",
        "\n",
        "for i in range(1, 5):\n",
        "  loader = CSVLoader(\n",
        "      file_path=f\"john_wick_{i}.csv\",\n",
        "      metadata_columns=[\"Review_Date\", \"Review_Title\", \"Review_Url\", \"Author\", \"Rating\"]\n",
        "  )\n",
        "\n",
        "  movie_docs = loader.load()\n",
        "  for doc in movie_docs:\n",
        "\n",
        "    # Add the \"Movie Title\" (John Wick 1, 2, ...)\n",
        "    doc.metadata[\"Movie_Title\"] = f\"John Wick {i}\"\n",
        "\n",
        "    # convert \"Rating\" to an `int`, if no rating is provided - assume 0 rating\n",
        "    doc.metadata[\"Rating\"] = int(doc.metadata[\"Rating\"]) if doc.metadata[\"Rating\"] else 0\n",
        "\n",
        "    # newer movies have a more recent \"last_accessed_at\"\n",
        "    doc.metadata[\"last_accessed_at\"] = datetime.now() - timedelta(days=4-i)\n",
        "\n",
        "  documents.extend(movie_docs)"
      ]
    },
    {
      "cell_type": "markdown",
      "metadata": {
        "id": "9gQphb6y0C0S"
      },
      "source": [
        "Let's look at an example document to see if everything worked as expected!"
      ]
    },
    {
      "cell_type": "code",
      "execution_count": 7,
      "metadata": {
        "colab": {
          "base_uri": "https://localhost:8080/"
        },
        "id": "PkUkCf7DaMiq",
        "outputId": "e90bd5da-1d87-423b-838a-cb6efc16b199"
      },
      "outputs": [
        {
          "data": {
            "text/plain": [
              "Document(metadata={'source': 'john_wick_1.csv', 'row': 0, 'Review_Date': '6 May 2015', 'Review_Title': ' Kinetic, concise, and stylish; John Wick kicks ass.\\n', 'Review_Url': '/review/rw3233896/?ref_=tt_urv', 'Author': 'lnvicta', 'Rating': 8, 'Movie_Title': 'John Wick 1', 'last_accessed_at': datetime.datetime(2024, 9, 29, 20, 16, 21, 775305)}, page_content=\": 0\\nReview: The best way I can describe John Wick is to picture Taken but instead of Liam Neeson it's Keanu Reeves and instead of his daughter it's his dog. That's essentially the plot of the movie. John Wick (Reeves) is out to seek revenge on the people who took something he loved from him. It's a beautifully simple premise for an action movie - when action movies get convoluted, they get bad i.e. A Good Day to Die Hard. John Wick gives the viewers what they want: Awesome action, stylish stunts, kinetic chaos, and a relatable hero to tie it all together. John Wick succeeds in its simplicity.\")"
            ]
          },
          "execution_count": 7,
          "metadata": {},
          "output_type": "execute_result"
        }
      ],
      "source": [
        "documents[0]"
      ]
    },
    {
      "cell_type": "markdown",
      "metadata": {
        "id": "lWaQpdHl0Gzc"
      },
      "source": [
        "## Task 3: Setting up QDrant!\n",
        "\n",
        "Now that we have our documents, let's create a QDrant VectorStore with the collection name \"JohnWick\".\n",
        "\n",
        "We'll leverage OpenAI's [`text-embedding-3-small`](https://openai.com/blog/new-embedding-models-and-api-updates) because it's a very powerful (and low-cost) embedding model.\n",
        "\n",
        "> NOTE: We'll be creating additional vectorstores where necessary, but this pattern is still extremely useful."
      ]
    },
    {
      "cell_type": "code",
      "execution_count": 8,
      "metadata": {
        "id": "NT8ihRJbYmMT"
      },
      "outputs": [],
      "source": [
        "from langchain_community.vectorstores import Qdrant\n",
        "from langchain_openai import OpenAIEmbeddings\n",
        "\n",
        "embeddings = OpenAIEmbeddings(model=\"text-embedding-3-small\")\n",
        "\n",
        "vectorstore = Qdrant.from_documents(\n",
        "    documents,\n",
        "    embeddings,\n",
        "    location=\":memory:\",\n",
        "    collection_name=\"JohnWick\"\n",
        ")"
      ]
    },
    {
      "cell_type": "markdown",
      "metadata": {
        "id": "-x2SS4Rh0hiN"
      },
      "source": [
        "## Task 4: Naive RAG Chain\n",
        "\n",
        "Since we're focusing on the \"R\" in RAG today - we'll create our Retriever first."
      ]
    },
    {
      "cell_type": "markdown",
      "metadata": {
        "id": "NEH7X5Ai08FH"
      },
      "source": [
        "### R - Retrieval\n",
        "\n",
        "This naive retriever will simply look at each review as a document, and use cosine-similarity to fetch the 10 most relevant documents.\n",
        "\n",
        "> NOTE: We're choosing `10` as our `k` here to provide enough documents for our reranking process later"
      ]
    },
    {
      "cell_type": "code",
      "execution_count": 9,
      "metadata": {
        "id": "GFDPrNBtb72o"
      },
      "outputs": [],
      "source": [
        "naive_retriever = vectorstore.as_retriever(search_kwargs={\"k\" : 10})"
      ]
    },
    {
      "cell_type": "markdown",
      "metadata": {
        "id": "MbBhyQjz06dx"
      },
      "source": [
        "### A - Augmented\n",
        "\n",
        "We're going to go with a standard prompt for our simple RAG chain today! Nothing fancy here, we want this to mostly be about the Retrieval process."
      ]
    },
    {
      "cell_type": "code",
      "execution_count": 10,
      "metadata": {
        "id": "7uSz-Dbqcoki"
      },
      "outputs": [],
      "source": [
        "from langchain_core.prompts import ChatPromptTemplate\n",
        "\n",
        "RAG_TEMPLATE = \"\"\"\\\n",
        "You are a helpful and kind assistant. Use the context provided below to answer the question.\n",
        "\n",
        "If you do not know the answer, or are unsure, say you don't know.\n",
        "\n",
        "Query:\n",
        "{question}\n",
        "\n",
        "Context:\n",
        "{context}\n",
        "\"\"\"\n",
        "\n",
        "rag_prompt = ChatPromptTemplate.from_template(RAG_TEMPLATE)"
      ]
    },
    {
      "cell_type": "markdown",
      "metadata": {
        "id": "BlRzpb231GGJ"
      },
      "source": [
        "### G - Generation\n",
        "\n",
        "We're going to leverage `gpt-3.5-turbo` as our LLM today, as - again - we want this to largely be about the Retrieval process."
      ]
    },
    {
      "cell_type": "code",
      "execution_count": 11,
      "metadata": {
        "id": "c-1t9H60dJLg"
      },
      "outputs": [],
      "source": [
        "from langchain_openai import ChatOpenAI\n",
        "\n",
        "chat_model = ChatOpenAI()"
      ]
    },
    {
      "cell_type": "markdown",
      "metadata": {
        "id": "mg3QRGzA1M2x"
      },
      "source": [
        "### LCEL RAG Chain\n",
        "\n",
        "We're going to use LCEL to construct our chain.\n",
        "\n",
        "> NOTE: This chain will be exactly the same across the various examples with the exception of our Retriever!"
      ]
    },
    {
      "cell_type": "code",
      "execution_count": 12,
      "metadata": {
        "id": "0bvstS7mdOW3"
      },
      "outputs": [],
      "source": [
        "from langchain_core.runnables import RunnablePassthrough\n",
        "from operator import itemgetter\n",
        "from langchain_core.output_parsers import StrOutputParser\n",
        "\n",
        "naive_retrieval_chain = (\n",
        "    # INVOKE CHAIN WITH: {\"question\" : \"<<SOME USER QUESTION>>\"}\n",
        "    # \"question\" : populated by getting the value of the \"question\" key\n",
        "    # \"context\"  : populated by getting the value of the \"question\" key and chaining it into the base_retriever\n",
        "    {\"context\": itemgetter(\"question\") | naive_retriever, \"question\": itemgetter(\"question\")}\n",
        "    # \"context\"  : is assigned to a RunnablePassthrough object (will not be called or considered in the next step)\n",
        "    #              by getting the value of the \"context\" key from the previous step\n",
        "    | RunnablePassthrough.assign(context=itemgetter(\"context\"))\n",
        "    # \"response\" : the \"context\" and \"question\" values are used to format our prompt object and then piped\n",
        "    #              into the LLM and stored in a key called \"response\"\n",
        "    # \"context\"  : populated by getting the value of the \"context\" key from the previous step\n",
        "    | {\"response\": rag_prompt | chat_model, \"context\": itemgetter(\"context\")}\n",
        ")"
      ]
    },
    {
      "cell_type": "markdown",
      "metadata": {
        "id": "izKujhNb1ZG8"
      },
      "source": [
        "Let's see how this simple chain does on a few different prompts.\n",
        "\n",
        "> NOTE: You might think that we've cherry picked prompts that showcase the individual skill of each of the retrieval strategies - you'd be correct!"
      ]
    },
    {
      "cell_type": "code",
      "execution_count": 13,
      "metadata": {
        "colab": {
          "base_uri": "https://localhost:8080/",
          "height": 36
        },
        "id": "LI-5ueEddku9",
        "outputId": "7f3cec18-5f4e-41bb-cf71-51ba0be5388e"
      },
      "outputs": [
        {
          "data": {
            "text/plain": [
              "'Yes, people generally liked John Wick based on the reviews provided.'"
            ]
          },
          "execution_count": 13,
          "metadata": {},
          "output_type": "execute_result"
        }
      ],
      "source": [
        "naive_retrieval_chain.invoke({\"question\" : \"Did people generally like John Wick?\"})[\"response\"].content"
      ]
    },
    {
      "cell_type": "code",
      "execution_count": 14,
      "metadata": {
        "colab": {
          "base_uri": "https://localhost:8080/",
          "height": 36
        },
        "id": "43zdcdUydtXh",
        "outputId": "db874e67-f568-4ed1-b863-b7c17b387052"
      },
      "outputs": [
        {
          "data": {
            "text/plain": [
              "'No, there are no reviews with a rating of 10 for \"John Wick 4.\"'"
            ]
          },
          "execution_count": 14,
          "metadata": {},
          "output_type": "execute_result"
        }
      ],
      "source": [
        "naive_retrieval_chain.invoke({\"question\" : \"Do any reviews have a rating of 10? If so - can I have the URLs to those reviews?\"})[\"response\"].content"
      ]
    },
    {
      "cell_type": "code",
      "execution_count": 15,
      "metadata": {
        "colab": {
          "base_uri": "https://localhost:8080/",
          "height": 70
        },
        "id": "lpG6rlvvvKFq",
        "outputId": "a1b330b0-628e-41be-d829-9c1d55e781f5"
      },
      "outputs": [
        {
          "data": {
            "text/plain": [
              "'In John Wick, an ex-hit-man comes out of retirement to seek vengeance against the gangsters who killed his dog and took everything from him. This leads to a series of violent confrontations and thrilling action sequences.'"
            ]
          },
          "execution_count": 15,
          "metadata": {},
          "output_type": "execute_result"
        }
      ],
      "source": [
        "naive_retrieval_chain.invoke({\"question\" : \"What happened in John Wick?\"})[\"response\"].content"
      ]
    },
    {
      "cell_type": "markdown",
      "metadata": {
        "id": "jsbfQmbr1leg"
      },
      "source": [
        "Overall, this is not bad! Let's see if we can make it better!"
      ]
    },
    {
      "cell_type": "markdown",
      "metadata": {
        "id": "Ft1vt8HPR16w"
      },
      "source": [
        "## Task 5: Best-Matching 25 (BM25) Retriever\n",
        "\n",
        "Taking a step back in time - [BM25](https://www.nowpublishers.com/article/Details/INR-019) is based on [Bag-Of-Words](https://en.wikipedia.org/wiki/Bag-of-words_model) which is a sparse representation of text.\n",
        "\n",
        "In essence, it's a way to compare how similar two pieces of text are based on the words they both contain.\n",
        "\n",
        "This retriever is very straightforward to set-up! Let's see it happen down below!\n"
      ]
    },
    {
      "cell_type": "code",
      "execution_count": 16,
      "metadata": {
        "id": "qdF4wuj5R-cG"
      },
      "outputs": [],
      "source": [
        "from langchain_community.retrievers import BM25Retriever\n",
        "\n",
        "bm25_retriever = BM25Retriever.from_documents(documents)"
      ]
    },
    {
      "cell_type": "markdown",
      "metadata": {
        "id": "KIjJlBQ8drKH"
      },
      "source": [
        "We'll construct the same chain - only changing the retriever."
      ]
    },
    {
      "cell_type": "code",
      "execution_count": 17,
      "metadata": {
        "id": "WR15EQG7SLuw"
      },
      "outputs": [],
      "source": [
        "naive_retrieval_chain = (\n",
        "    {\"context\": itemgetter(\"question\") | bm25_retriever, \"question\": itemgetter(\"question\")}\n",
        "    | RunnablePassthrough.assign(context=itemgetter(\"context\"))\n",
        "    | {\"response\": rag_prompt | chat_model, \"context\": itemgetter(\"context\")}\n",
        ")"
      ]
    },
    {
      "cell_type": "markdown",
      "metadata": {
        "id": "0Gi-yXCDdvJk"
      },
      "source": [
        "Let's look at the responses!"
      ]
    },
    {
      "cell_type": "code",
      "execution_count": 18,
      "metadata": {
        "colab": {
          "base_uri": "https://localhost:8080/",
          "height": 53
        },
        "id": "oY9qzmm3SOrF",
        "outputId": "4d4f450f-5978-460f-f242-b32407868353"
      },
      "outputs": [
        {
          "data": {
            "text/plain": [
              "\"Opinions on John Wick seem to vary. Some people really enjoyed the action and style of the movie, while others found it lacking in substance or too violent. So, it's safe to say that not everyone liked John Wick.\""
            ]
          },
          "execution_count": 18,
          "metadata": {},
          "output_type": "execute_result"
        }
      ],
      "source": [
        "naive_retrieval_chain.invoke({\"question\" : \"Did people generally like John Wick?\"})[\"response\"].content"
      ]
    },
    {
      "cell_type": "code",
      "execution_count": 19,
      "metadata": {
        "colab": {
          "base_uri": "https://localhost:8080/",
          "height": 36
        },
        "id": "igfinyneSQkh",
        "outputId": "9752d4a9-dd16-45b1-f63f-a76e93a05eb3"
      },
      "outputs": [
        {
          "data": {
            "text/plain": [
              "\"I'm sorry, there are no reviews with a rating of 10 in the context provided.\""
            ]
          },
          "execution_count": 19,
          "metadata": {},
          "output_type": "execute_result"
        }
      ],
      "source": [
        "naive_retrieval_chain.invoke({\"question\" : \"Do any reviews have a rating of 10? If so - can I have the URLs to those reviews?\"})[\"response\"].content"
      ]
    },
    {
      "cell_type": "code",
      "execution_count": 20,
      "metadata": {
        "colab": {
          "base_uri": "https://localhost:8080/",
          "height": 53
        },
        "id": "w0H7pV_USSMQ",
        "outputId": "bdead654-3109-4143-9a30-e1d6ca8dc534"
      },
      "outputs": [
        {
          "data": {
            "text/plain": [
              "'John Wick is an action movie series that follows the story of a retired hitman, John Wick, who seeks vengeance after the death of his dog, which was a final gift from his late wife. The series is known for its intense action scenes, choreography, and emotional depth.'"
            ]
          },
          "execution_count": 20,
          "metadata": {},
          "output_type": "execute_result"
        }
      ],
      "source": [
        "naive_retrieval_chain.invoke({\"question\" : \"What happened in John Wick?\"})[\"response\"].content"
      ]
    },
    {
      "cell_type": "markdown",
      "metadata": {
        "id": "zvg5xHaUdxCl"
      },
      "source": [
        "It's not clear that this is better or worse - but the `I don't know` isn't great!"
      ]
    },
    {
      "cell_type": "markdown",
      "metadata": {
        "id": "Q-dcbFn2vpZF"
      },
      "source": [
        "## Task 6: Contextual Compression (Using Reranking)\n",
        "\n",
        "Contextual Compression is a fairly straightforward idea: We want to \"compress\" our retrieved context into just the most useful bits.\n",
        "\n",
        "There are a few ways we can achieve this - but we're going to look at a specific example called reranking.\n",
        "\n",
        "The basic idea here is this:\n",
        "\n",
        "- We retrieve lots of documents that are very likely related to our query vector\n",
        "- We \"compress\" those documents into a smaller set of *more* related documents using a reranking algorithm.\n",
        "\n",
        "We'll be leveraging Cohere's Rerank model for our reranker today!\n",
        "\n",
        "All we need to do is the following:\n",
        "\n",
        "- Create a basic retriever\n",
        "- Create a compressor (reranker, in this case)\n",
        "\n",
        "That's it!\n",
        "\n",
        "Let's see it in the code below!"
      ]
    },
    {
      "cell_type": "code",
      "execution_count": 89,
      "metadata": {
        "id": "psHvO2K1v_ZQ"
      },
      "outputs": [],
      "source": [
        "from langchain.retrievers.contextual_compression import ContextualCompressionRetriever\n",
        "from langchain_cohere import CohereRerank\n",
        "\n",
        "compressor = CohereRerank(model=\"rerank-english-v3.0\")\n",
        "compression_retriever = ContextualCompressionRetriever(\n",
        "    base_compressor=compressor, base_retriever=naive_retriever\n",
        ")"
      ]
    },
    {
      "cell_type": "markdown",
      "metadata": {
        "id": "_TA9RB2x-j7P"
      },
      "source": [
        "Let's create our chain again, and see how this does!"
      ]
    },
    {
      "cell_type": "code",
      "execution_count": 90,
      "metadata": {
        "id": "1BXqmxvHwX6T"
      },
      "outputs": [],
      "source": [
        "contextual_compression_retrieval_chain = (\n",
        "    {\"context\": itemgetter(\"question\") | compression_retriever, \"question\": itemgetter(\"question\")}\n",
        "    | RunnablePassthrough.assign(context=itemgetter(\"context\"))\n",
        "    | {\"response\": rag_prompt | chat_model, \"context\": itemgetter(\"context\")}\n",
        ")"
      ]
    },
    {
      "cell_type": "code",
      "execution_count": 23,
      "metadata": {
        "colab": {
          "base_uri": "https://localhost:8080/",
          "height": 36
        },
        "id": "V3iGpokswcBb",
        "outputId": "f15d2aa1-5e8b-417d-f623-eb835d072e59"
      },
      "outputs": [
        {
          "data": {
            "text/plain": [
              "'Yes, people generally liked John Wick based on the positive reviews provided in the context.'"
            ]
          },
          "execution_count": 23,
          "metadata": {},
          "output_type": "execute_result"
        }
      ],
      "source": [
        "contextual_compression_retrieval_chain.invoke({\"question\" : \"Did people generally like John Wick?\"})[\"response\"].content"
      ]
    },
    {
      "cell_type": "code",
      "execution_count": 24,
      "metadata": {
        "colab": {
          "base_uri": "https://localhost:8080/",
          "height": 53
        },
        "id": "7u_k0i4OweUd",
        "outputId": "be5fccc8-2352-4189-c524-bbeaa28cf799"
      },
      "outputs": [
        {
          "data": {
            "text/plain": [
              "\"Yes, there is a review with a rating of 10. Here is the URL to that review: '/review/rw4854296/?ref_=tt_urv'\""
            ]
          },
          "execution_count": 24,
          "metadata": {},
          "output_type": "execute_result"
        }
      ],
      "source": [
        "contextual_compression_retrieval_chain.invoke({\"question\" : \"Do any reviews have a rating of 10? If so - can I have the URLs to those reviews?\"})[\"response\"].content"
      ]
    },
    {
      "cell_type": "code",
      "execution_count": 25,
      "metadata": {
        "colab": {
          "base_uri": "https://localhost:8080/",
          "height": 70
        },
        "id": "zn1EqaGqweXN",
        "outputId": "42bc5972-4164-46eb-f49d-4272f39bb89b"
      },
      "outputs": [
        {
          "data": {
            "text/plain": [
              "\"In John Wick 2, after resolving his issues with the Russian mafia, John Wick returns home only to be visited by mobster Santino D'Antonio who asks for his help. When John refuses, Santino blows up his house. John Wick then meets with Winston, the owner of the Continental hotel, who tells him he cannot violate Mafia rules and must honor the marker. Santino asks John Wick to kill his sister in Rome. After completing the assignment, Santino puts a seven-million dollar contract on John Wick, leading to a showdown between them.\""
            ]
          },
          "execution_count": 25,
          "metadata": {},
          "output_type": "execute_result"
        }
      ],
      "source": [
        "contextual_compression_retrieval_chain.invoke({\"question\" : \"What happened in John Wick?\"})[\"response\"].content"
      ]
    },
    {
      "cell_type": "markdown",
      "metadata": {
        "id": "OEbT0g2S-mZ4"
      },
      "source": [
        "We'll need to rely on something like Ragas to help us get a better sense of how this is performing overall - but it \"feels\" better!"
      ]
    },
    {
      "cell_type": "markdown",
      "metadata": {
        "id": "qqbghrBEQNn5"
      },
      "source": [
        "## Task 7: Multi-Query Retriever\n",
        "\n",
        "Typically in RAG we have a single query - the one provided by the user.\n",
        "\n",
        "What if we had....more than one query!\n",
        "\n",
        "In essence, a Multi-Query Retriever works by:\n",
        "\n",
        "1. Taking the original user query and creating `n` number of new user queries using an LLM.\n",
        "2. Retrieving documents for each query.\n",
        "3. Using all unique retrieved documents as context\n",
        "\n",
        "So, how is it to set-up? Not bad! Let's see it down below!\n",
        "\n"
      ]
    },
    {
      "cell_type": "code",
      "execution_count": 26,
      "metadata": {
        "id": "pfM26ReXQjzU"
      },
      "outputs": [],
      "source": [
        "from langchain.retrievers.multi_query import MultiQueryRetriever\n",
        "\n",
        "multi_query_retriever = MultiQueryRetriever.from_llm(\n",
        "    retriever=naive_retriever, llm=chat_model\n",
        ")"
      ]
    },
    {
      "cell_type": "code",
      "execution_count": 27,
      "metadata": {
        "id": "1vRc129jQ5WW"
      },
      "outputs": [],
      "source": [
        "multi_query_retrieval_chain = (\n",
        "    {\"context\": itemgetter(\"question\") | multi_query_retriever, \"question\": itemgetter(\"question\")}\n",
        "    | RunnablePassthrough.assign(context=itemgetter(\"context\"))\n",
        "    | {\"response\": rag_prompt | chat_model, \"context\": itemgetter(\"context\")}\n",
        ")"
      ]
    },
    {
      "cell_type": "code",
      "execution_count": 28,
      "metadata": {
        "colab": {
          "base_uri": "https://localhost:8080/",
          "height": 53
        },
        "id": "CGgNuOb3Q3M9",
        "outputId": "c5273ecf-da35-40b8-fbdb-0f8beab425f7"
      },
      "outputs": [
        {
          "data": {
            "text/plain": [
              "\"Based on the reviews provided, it seems that people generally liked John Wick. The movie received positive feedback for its action sequences, Keanu Reeves' performance, and overall entertainment value.\""
            ]
          },
          "execution_count": 28,
          "metadata": {},
          "output_type": "execute_result"
        }
      ],
      "source": [
        "multi_query_retrieval_chain.invoke({\"question\" : \"Did people generally like John Wick?\"})[\"response\"].content"
      ]
    },
    {
      "cell_type": "code",
      "execution_count": 29,
      "metadata": {
        "colab": {
          "base_uri": "https://localhost:8080/",
          "height": 36
        },
        "id": "aAlSthxrRDBC",
        "outputId": "230ff807-23ae-4d25-8d11-cfdbed0b77cb"
      },
      "outputs": [
        {
          "data": {
            "text/plain": [
              "'I\\'m sorry, but there are no reviews with a rating of 10 for the movie \"John Wick 4.\"'"
            ]
          },
          "execution_count": 29,
          "metadata": {},
          "output_type": "execute_result"
        }
      ],
      "source": [
        "multi_query_retrieval_chain.invoke({\"question\" : \"Do any reviews have a rating of 10? If so - can I have the URLs to those reviews?\"})[\"response\"].content"
      ]
    },
    {
      "cell_type": "code",
      "execution_count": 30,
      "metadata": {
        "colab": {
          "base_uri": "https://localhost:8080/",
          "height": 88
        },
        "id": "Uv1mpCK8REs4",
        "outputId": "00fbc22a-ed9b-4613-9695-0b179e3f8369"
      },
      "outputs": [
        {
          "data": {
            "text/plain": [
              "'In John Wick: Chapter 2, the plot revolves around John Wick being forced back into the world of assassins when an Italian crime lord calls in a favor, leading Wick to carry out a dangerous mission in Rome. Wick faces numerous professional killers and ultimately seeks revenge against those who have betrayed him.'"
            ]
          },
          "execution_count": 30,
          "metadata": {},
          "output_type": "execute_result"
        }
      ],
      "source": [
        "multi_query_retrieval_chain.invoke({\"question\" : \"What happened in John Wick?\"})[\"response\"].content"
      ]
    },
    {
      "cell_type": "markdown",
      "metadata": {
        "id": "EDEawBf_d_3G"
      },
      "source": [
        "## Task 8: Parent Document Retriever\n",
        "\n",
        "A \"small-to-big\" strategy - the Parent Document Retriever works based on a simple strategy:\n",
        "\n",
        "1. Each un-split \"document\" will be designated as a \"parent document\" (You could use larger chunks of document as well, but our data format allows us to consider the overall document as the parent chunk)\n",
        "2. Store those \"parent documents\" in a memory store (not a VectorStore)\n",
        "3. We will chunk each of those documents into smaller documents, and associate them with their respective parents, and store those in a VectorStore. We'll call those \"child chunks\".\n",
        "4. When we query our Retriever, we will do a similarity search comparing our query vector to the \"child chunks\".\n",
        "5. Instead of returning the \"child chunks\", we'll return their associated \"parent chunks\".\n",
        "\n",
        "Okay, maybe that was a few steps - but the basic idea is this:\n",
        "\n",
        "- Search for small documents\n",
        "- Return big documents\n",
        "\n",
        "The intuition is that we're likely to find the most relevant information by limiting the amount of semantic information that is encoded in each embedding vector - but we're likely to miss relevant surrounding context if we only use that information.\n",
        "\n",
        "Let's start by creating our \"parent documents\" and defining a `RecursiveCharacterTextSplitter`."
      ]
    },
    {
      "cell_type": "code",
      "execution_count": 31,
      "metadata": {
        "id": "qJ53JJuMd_ZH"
      },
      "outputs": [],
      "source": [
        "from langchain.retrievers import ParentDocumentRetriever\n",
        "from langchain.storage import InMemoryStore\n",
        "from langchain_text_splitters import RecursiveCharacterTextSplitter\n",
        "from qdrant_client import QdrantClient, models\n",
        "\n",
        "parent_docs = documents\n",
        "child_splitter = RecursiveCharacterTextSplitter(chunk_size=200)"
      ]
    },
    {
      "cell_type": "markdown",
      "metadata": {
        "id": "oOpXfVUH3gL3"
      },
      "source": [
        "We'll need to set up a new QDrant vectorstore - and we'll use another useful pattern to do so!\n",
        "\n",
        "> NOTE: We are manually defining our embedding dimension, you'll need to change this if you're using a different embedding model."
      ]
    },
    {
      "cell_type": "code",
      "execution_count": 32,
      "metadata": {
        "colab": {
          "base_uri": "https://localhost:8080/"
        },
        "id": "rzFc-_9HlGQ-",
        "outputId": "223662dd-c36f-42f7-d1b0-b086e571484e"
      },
      "outputs": [
        {
          "name": "stderr",
          "output_type": "stream",
          "text": [
            "/var/folders/fy/bc970z1n26gflr1xr_4kr5380000gn/T/ipykernel_44772/3574430551.py:8: LangChainDeprecationWarning: The class `Qdrant` was deprecated in LangChain 0.0.37 and will be removed in 1.0. An updated version of the class exists in the langchain-qdrant package and should be used instead. To use it run `pip install -U langchain-qdrant` and import as `from langchain_qdrant import Qdrant`.\n",
            "  parent_document_vectorstore = Qdrant(\n"
          ]
        }
      ],
      "source": [
        "client = QdrantClient(location=\":memory:\")\n",
        "\n",
        "client.create_collection(\n",
        "    collection_name=\"full_documents\",\n",
        "    vectors_config=models.VectorParams(size=1536, distance=models.Distance.COSINE)\n",
        ")\n",
        "\n",
        "parent_document_vectorstore = Qdrant(\n",
        "    collection_name=\"full_documents\", embeddings=OpenAIEmbeddings(model=\"text-embedding-3-small\"), client=client\n",
        ")"
      ]
    },
    {
      "cell_type": "markdown",
      "metadata": {
        "id": "sf_g95FA3s6w"
      },
      "source": [
        "Now we can create our `InMemoryStore` that will hold our \"parent documents\" - and build our retriever!"
      ]
    },
    {
      "cell_type": "code",
      "execution_count": 33,
      "metadata": {
        "id": "BpWVjPf4fLUp"
      },
      "outputs": [],
      "source": [
        "store = InMemoryStore()\n",
        "\n",
        "parent_document_retriever = ParentDocumentRetriever(\n",
        "    vectorstore = parent_document_vectorstore,\n",
        "    docstore=store,\n",
        "    child_splitter=child_splitter,\n",
        ")"
      ]
    },
    {
      "cell_type": "markdown",
      "metadata": {
        "id": "KoYmSWfE32Zo"
      },
      "source": [
        "By default, this is empty as we haven't added any documents - let's add some now!"
      ]
    },
    {
      "cell_type": "code",
      "execution_count": 34,
      "metadata": {
        "id": "iQ2ZzfKigMZc"
      },
      "outputs": [],
      "source": [
        "parent_document_retriever.add_documents(parent_docs, ids=None)"
      ]
    },
    {
      "cell_type": "markdown",
      "metadata": {
        "id": "bI7Tip1335rE"
      },
      "source": [
        "We'll create the same chain we did before - but substitute our new `parent_document_retriever`."
      ]
    },
    {
      "cell_type": "code",
      "execution_count": 35,
      "metadata": {
        "id": "Qq_adt2KlSqp"
      },
      "outputs": [],
      "source": [
        "parent_document_retrieval_chain = (\n",
        "    {\"context\": itemgetter(\"question\") | parent_document_retriever, \"question\": itemgetter(\"question\")}\n",
        "    | RunnablePassthrough.assign(context=itemgetter(\"context\"))\n",
        "    | {\"response\": rag_prompt | chat_model, \"context\": itemgetter(\"context\")}\n",
        ")"
      ]
    },
    {
      "cell_type": "markdown",
      "metadata": {
        "id": "jNolUVQb4Apt"
      },
      "source": [
        "Let's give it a whirl!"
      ]
    },
    {
      "cell_type": "code",
      "execution_count": 36,
      "metadata": {
        "colab": {
          "base_uri": "https://localhost:8080/",
          "height": 70
        },
        "id": "TXB5i89Zly5W",
        "outputId": "94c240be-7c5b-4c58-9eee-56d93285a054"
      },
      "outputs": [
        {
          "data": {
            "text/plain": [
              "\"People's opinions on John Wick seem to vary. Some love the series and consider it a wild ride, while others find it to be horrible and nonsensical. It ultimately depends on personal taste.\""
            ]
          },
          "execution_count": 36,
          "metadata": {},
          "output_type": "execute_result"
        }
      ],
      "source": [
        "parent_document_retrieval_chain.invoke({\"question\" : \"Did people generally like John Wick?\"})[\"response\"].content"
      ]
    },
    {
      "cell_type": "code",
      "execution_count": 37,
      "metadata": {
        "colab": {
          "base_uri": "https://localhost:8080/",
          "height": 36
        },
        "id": "V5F1T-wNl3cg",
        "outputId": "9b81e72e-5db7-4b8a-b25b-400ea0df5335"
      },
      "outputs": [
        {
          "data": {
            "text/plain": [
              "'Yes, there is a review with a rating of 10. Here is the URL to that review: \\'/review/rw4854296/?ref_=tt_urv\\' for the movie \"John Wick 3\".'"
            ]
          },
          "execution_count": 37,
          "metadata": {},
          "output_type": "execute_result"
        }
      ],
      "source": [
        "parent_document_retrieval_chain.invoke({\"question\" : \"Do any reviews have a rating of 10? If so - can I have the URLs to those reviews?\"})[\"response\"].content"
      ]
    },
    {
      "cell_type": "code",
      "execution_count": 38,
      "metadata": {
        "colab": {
          "base_uri": "https://localhost:8080/",
          "height": 70
        },
        "id": "ZqARszGzvGcG",
        "outputId": "8867f83c-db13-4db4-d57f-9bd51d32cd8a"
      },
      "outputs": [
        {
          "data": {
            "text/plain": [
              "'In John Wick, Keanu Reeves plays the character of John Wick, a retired assassin who comes out of retirement after someone kills his dog and steals his car. He is forced back into the world of assassins and has to travel to Italy, Canada, and Manhattan to take on numerous adversaries, including other assassins. The movie is known for its intense action and high body count.'"
            ]
          },
          "execution_count": 38,
          "metadata": {},
          "output_type": "execute_result"
        }
      ],
      "source": [
        "parent_document_retrieval_chain.invoke({\"question\" : \"What happened in John Wick?\"})[\"response\"].content"
      ]
    },
    {
      "cell_type": "markdown",
      "metadata": {
        "id": "B41cj42s4DPM"
      },
      "source": [
        "Overall, the performance *seems* largely the same. We can leverage a tool like [Ragas]() to more effectively answer the question about the performance."
      ]
    },
    {
      "cell_type": "markdown",
      "metadata": {
        "id": "VUrIBKl_TwS9"
      },
      "source": [
        "## Task 9: Ensemble Retriever\n",
        "\n",
        "In brief, an Ensemble Retriever simply takes 2, or more, retrievers and combines their retrieved documents based on a rank-fusion algorithm.\n",
        "\n",
        "In this case - we're using the [Reciprocal Rank Fusion](https://plg.uwaterloo.ca/~gvcormac/cormacksigir09-rrf.pdf) algorithm.\n",
        "\n",
        "Setting it up is as easy as providing a list of our desired retrievers - and the weights for each retriever."
      ]
    },
    {
      "cell_type": "code",
      "execution_count": 93,
      "metadata": {
        "id": "8j7jpZsKTxic"
      },
      "outputs": [],
      "source": [
        "from langchain.retrievers import EnsembleRetriever\n",
        "\n",
        "retriever_list = [bm25_retriever, naive_retriever, parent_document_retriever, compression_retriever, multi_query_retriever]\n",
        "equal_weighting = [1/len(retriever_list)] * len(retriever_list)\n",
        "\n",
        "ensemble_retriever = EnsembleRetriever(\n",
        "    retrievers=retriever_list, weights=equal_weighting\n",
        ")"
      ]
    },
    {
      "cell_type": "markdown",
      "metadata": {
        "id": "kpo9Psl5hhJ-"
      },
      "source": [
        "We'll pack *all* of these retrievers together in an ensemble."
      ]
    },
    {
      "cell_type": "code",
      "execution_count": 94,
      "metadata": {
        "id": "KZ__EZwpUKkd"
      },
      "outputs": [],
      "source": [
        "ensemble_retrieval_chain = (\n",
        "    {\"context\": itemgetter(\"question\") | ensemble_retriever, \"question\": itemgetter(\"question\")}\n",
        "    | RunnablePassthrough.assign(context=itemgetter(\"context\"))\n",
        "    | {\"response\": rag_prompt | chat_model, \"context\": itemgetter(\"context\")}\n",
        ")"
      ]
    },
    {
      "cell_type": "markdown",
      "metadata": {
        "id": "SSsvHpRMj24L"
      },
      "source": [
        "Let's look at our results!"
      ]
    },
    {
      "cell_type": "code",
      "execution_count": 41,
      "metadata": {
        "colab": {
          "base_uri": "https://localhost:8080/",
          "height": 70
        },
        "id": "0lMvqL88UQI-",
        "outputId": "d86dd5f7-0a13-4836-c0ce-cc4c431fd889"
      },
      "outputs": [
        {
          "data": {
            "text/plain": [
              "\"Based on the reviews provided, it seems that people generally liked John Wick. The majority of reviews praised the movie for its action sequences, Keanu Reeves' performance, and the overall entertainment value. Additionally, many reviewers recommended the film to action fans and highlighted its unique and stylish approach to the genre.\""
            ]
          },
          "execution_count": 41,
          "metadata": {},
          "output_type": "execute_result"
        }
      ],
      "source": [
        "ensemble_retrieval_chain.invoke({\"question\" : \"Did people generally like John Wick?\"})[\"response\"].content"
      ]
    },
    {
      "cell_type": "code",
      "execution_count": 42,
      "metadata": {
        "colab": {
          "base_uri": "https://localhost:8080/",
          "height": 53
        },
        "id": "MNFWLYECURI1",
        "outputId": "b17973b5-66a9-4481-97d5-880b5754b5c5"
      },
      "outputs": [
        {
          "data": {
            "text/plain": [
              "'Yes, there is a review with a rating of 10 for the movie \"John Wick 3.\" Here is the URL to that review: \\'/review/rw4854296/?ref_=tt_urv\\''"
            ]
          },
          "execution_count": 42,
          "metadata": {},
          "output_type": "execute_result"
        }
      ],
      "source": [
        "ensemble_retrieval_chain.invoke({\"question\" : \"Do any reviews have a rating of 10? If so - can I have the URLs to those reviews?\"})[\"response\"].content"
      ]
    },
    {
      "cell_type": "code",
      "execution_count": 43,
      "metadata": {
        "colab": {
          "base_uri": "https://localhost:8080/",
          "height": 88
        },
        "id": "A7qbHfWgUR4c",
        "outputId": "f7373144-59ef-4fc7-b75d-ca00e7df881e"
      },
      "outputs": [
        {
          "data": {
            "text/plain": [
              "'In \"John Wick,\" an ex-hitman comes out of retirement to seek vengeance against the gangsters who killed his dog and took everything from him. The movie features plenty of action, shootouts, and breathtaking fights as John Wick unleashes a maelstrom of destruction against those who come after him. Ultimately, the plot revolves around John Wick\\'s quest for revenge and the consequences of his actions.'"
            ]
          },
          "execution_count": 43,
          "metadata": {},
          "output_type": "execute_result"
        }
      ],
      "source": [
        "ensemble_retrieval_chain.invoke({\"question\" : \"What happened in John Wick?\"})[\"response\"].content"
      ]
    },
    {
      "cell_type": "markdown",
      "metadata": {
        "id": "MopbkNJAXVaN"
      },
      "source": [
        "## Task 10: Semantic Chunking\n",
        "\n",
        "While this is not a retrieval method - it *is* an effective way of increasing retrieval performance on corpora that have clean semantic breaks in them.\n",
        "\n",
        "Essentially, Semantic Chunking is implemented by:\n",
        "\n",
        "1. Embedding all sentences in the corpus.\n",
        "2. Combining or splitting sequences of sentences based on their semantic similarity based on a number of [possible thresholding methods](https://python.langchain.com/docs/how_to/semantic-chunker/):\n",
        "  - `percentile`\n",
        "  - `standard_deviation`\n",
        "  - `interquartile`\n",
        "  - `gradient`\n",
        "3. Each sequence of related sentences is kept as a document!\n",
        "\n",
        "Let's see how to implement this!"
      ]
    },
    {
      "cell_type": "code",
      "execution_count": 44,
      "metadata": {
        "colab": {
          "base_uri": "https://localhost:8080/"
        },
        "id": "1dHeB-yGXneL",
        "outputId": "efc59105-518a-4134-9228-d98b8a97e08e"
      },
      "outputs": [],
      "source": [
        "# !pip install -qU langchain_experimental"
      ]
    },
    {
      "cell_type": "markdown",
      "metadata": {
        "id": "U9ciZbFEldv_"
      },
      "source": [
        "We'll use the `percentile` thresholding method for this example which will:\n",
        "\n",
        "Calculate all distances between sentences, and then break apart sequences of setences that exceed a given percentile among all distances."
      ]
    },
    {
      "cell_type": "code",
      "execution_count": 45,
      "metadata": {
        "id": "66EIEWiEYl5y"
      },
      "outputs": [],
      "source": [
        "from langchain_experimental.text_splitter import SemanticChunker\n",
        "\n",
        "semantic_chunker = SemanticChunker(\n",
        "    embeddings,\n",
        "    breakpoint_threshold_type=\"percentile\"\n",
        ")"
      ]
    },
    {
      "cell_type": "markdown",
      "metadata": {
        "id": "YqoKmz12mhRW"
      },
      "source": [
        "Now we can split our documents."
      ]
    },
    {
      "cell_type": "code",
      "execution_count": 46,
      "metadata": {
        "id": "ROcV7o68ZIq7"
      },
      "outputs": [],
      "source": [
        "semantic_documents = semantic_chunker.split_documents(documents)"
      ]
    },
    {
      "cell_type": "markdown",
      "metadata": {
        "id": "L8-LNC-Xmjex"
      },
      "source": [
        "Let's create a new vector store."
      ]
    },
    {
      "cell_type": "code",
      "execution_count": 47,
      "metadata": {
        "id": "h3sl9QjyZhIe"
      },
      "outputs": [],
      "source": [
        "semantic_vectorstore = Qdrant.from_documents(\n",
        "    semantic_documents,\n",
        "    embeddings,\n",
        "    location=\":memory:\",\n",
        "    collection_name=\"JohnWickSemantic\"\n",
        ")"
      ]
    },
    {
      "cell_type": "markdown",
      "metadata": {
        "id": "Eh_r_-LHmmKn"
      },
      "source": [
        "We'll use naive retrieval for this example."
      ]
    },
    {
      "cell_type": "code",
      "execution_count": 48,
      "metadata": {
        "id": "odVyDUHwZftc"
      },
      "outputs": [],
      "source": [
        "semantic_retriever = semantic_vectorstore.as_retriever(search_kwargs={\"k\" : 10})"
      ]
    },
    {
      "cell_type": "markdown",
      "metadata": {
        "id": "Mkeiv_ojmp6G"
      },
      "source": [
        "Finally we can create our classic chain!"
      ]
    },
    {
      "cell_type": "code",
      "execution_count": 49,
      "metadata": {
        "id": "xWE_0J0mZveG"
      },
      "outputs": [],
      "source": [
        "semantic_retrieval_chain = (\n",
        "    {\"context\": itemgetter(\"question\") | semantic_retriever, \"question\": itemgetter(\"question\")}\n",
        "    | RunnablePassthrough.assign(context=itemgetter(\"context\"))\n",
        "    | {\"response\": rag_prompt | chat_model, \"context\": itemgetter(\"context\")}\n",
        ")"
      ]
    },
    {
      "cell_type": "markdown",
      "metadata": {
        "id": "R5pfjLQ3ms9_"
      },
      "source": [
        "And view the results!"
      ]
    },
    {
      "cell_type": "code",
      "execution_count": 50,
      "metadata": {
        "colab": {
          "base_uri": "https://localhost:8080/",
          "height": 70
        },
        "id": "0lN2j-e4Z0SD",
        "outputId": "ef483e21-7200-4dfc-b8bf-aed4f23587b2"
      },
      "outputs": [
        {
          "data": {
            "text/plain": [
              "'Based on the reviews provided, it seems that John Wick was generally liked by people.'"
            ]
          },
          "execution_count": 50,
          "metadata": {},
          "output_type": "execute_result"
        }
      ],
      "source": [
        "semantic_retrieval_chain.invoke({\"question\" : \"Did people generally like John Wick?\"})[\"response\"].content"
      ]
    },
    {
      "cell_type": "code",
      "execution_count": 51,
      "metadata": {
        "colab": {
          "base_uri": "https://localhost:8080/",
          "height": 53
        },
        "id": "xdqfBH1SZ3f9",
        "outputId": "ed62b2d1-7586-46cc-aaf4-c54192a56155"
      },
      "outputs": [
        {
          "data": {
            "text/plain": [
              "'Yes, there is a review with a rating of 10 for the movie \"John Wick 3\". Here is the URL to that review: \\'/review/rw4854296/?ref_=tt_urv\\''"
            ]
          },
          "execution_count": 51,
          "metadata": {},
          "output_type": "execute_result"
        }
      ],
      "source": [
        "semantic_retrieval_chain.invoke({\"question\" : \"Do any reviews have a rating of 10? If so - can I have the URLs to those reviews?\"})[\"response\"].content"
      ]
    },
    {
      "cell_type": "code",
      "execution_count": 52,
      "metadata": {
        "colab": {
          "base_uri": "https://localhost:8080/",
          "height": 70
        },
        "id": "rAcAObZnZ4o6",
        "outputId": "3f1cade3-41e4-4e42-ef71-048dd18e5e3a"
      },
      "outputs": [
        {
          "data": {
            "text/plain": [
              "'In John Wick, the main character seeks revenge on the people who took something he loved from him. Specifically, his dog was killed, and his car was stolen, leading to a lot of carnage as he goes after those responsible.'"
            ]
          },
          "execution_count": 52,
          "metadata": {},
          "output_type": "execute_result"
        }
      ],
      "source": [
        "semantic_retrieval_chain.invoke({\"question\" : \"What happened in John Wick?\"})[\"response\"].content"
      ]
    },
    {
      "cell_type": "markdown",
      "metadata": {
        "id": "xk2n3-pnVWDJ"
      },
      "source": [
        "# 🤝 Breakout Room Part #2"
      ]
    },
    {
      "cell_type": "markdown",
      "metadata": {
        "id": "2SkJLYwMVZkj"
      },
      "source": [
        "#### 🏗️ Activity #1\n",
        "\n",
        "Your task is to evaluate the various Retriever methods against eachother.\n",
        "\n",
        "You are expected to:\n",
        "\n",
        "1. Create a \"golden dataset\"\n",
        " - Use Synthetic Data Generation (powered by Ragas, or otherwise) to create this dataset\n",
        "2. Evaluate each retriever with *retriever specific* Ragas metrics\n",
        " - Semantic Chunking is not considered a retriever method and will not be required for marks, but you may find it useful to do a \"semantic chunking on\" vs. \"semantic chunking off\" comparision between them\n",
        "3. Compile these in a list and write a small paragraph about which is best for this particular data and why.\n",
        "\n",
        "Your analysis should factor in:\n",
        "  - Cost\n",
        "  - Latency\n",
        "  - Performance\n",
        "\n",
        "> NOTE: This is **NOT** required to be completed in class. Please spend time in your breakout rooms creating a plan before moving on to writing code."
      ]
    },
    {
      "cell_type": "markdown",
      "metadata": {
        "id": "TWAr16a5XMub"
      },
      "source": [
        "##### HINTS:\n",
        "\n",
        "- LangSmith provides detailed information about latency and cost."
      ]
    },
    {
      "cell_type": "markdown",
      "metadata": {},
      "source": [
        "## LangSmith Setup"
      ]
    },
    {
      "cell_type": "code",
      "execution_count": 53,
      "metadata": {
        "id": "tgDICngKXLGK"
      },
      "outputs": [],
      "source": [
        "import os\n",
        "from uuid import uuid4\n",
        "\n",
        "os.environ[\"LANGCHAIN_TRACING_V2\"] = \"true\"\n",
        "\n",
        "os.environ[\"LANGCHAIN_PROJECT\"] = f\"AIE4 - Advanced Retrieval Evaluation - {uuid4()}\"\n",
        "\n",
        "os.environ[\"LANGCHAIN_API_KEY\"] = getpass.getpass(\"LangChain API Key:\")"
      ]
    },
    {
      "cell_type": "markdown",
      "metadata": {},
      "source": [
        "## Utility Functions"
      ]
    },
    {
      "cell_type": "code",
      "execution_count": 54,
      "metadata": {},
      "outputs": [],
      "source": [
        "import time\n",
        "from datasets import Dataset\n",
        "from ragas.metrics import context_precision, context_recall\n",
        "from ragas import evaluate\n",
        "import pandas as pd\n",
        "import os\n",
        "import pickle\n",
        "from ragas.testset.generator import TestsetGenerator\n",
        "from ragas.testset.evolutions import simple, reasoning, multi_context\n",
        "from langchain_openai import ChatOpenAI, OpenAIEmbeddings\n",
        "from pydantic import BaseModel\n",
        "\n",
        "# Function to create a synthetic dataset using specified LLMs and criteria\n",
        "async def create_synthetic_dataset(documents, num_questions=40, output_path='dataset.pkl'):\n",
        "    generator_llm = ChatOpenAI(model=\"gpt-4o\")\n",
        "    critic_llm = ChatOpenAI(model=\"gpt-4o\")\n",
        "    embeddings = OpenAIEmbeddings()\n",
        "\n",
        "    generator = TestsetGenerator.from_langchain(generator_llm, critic_llm, embeddings)\n",
        "    distributions = {simple: 0.5, multi_context: 0.4, reasoning: 0.1}\n",
        "    \n",
        "    # Generating synthetic dataset\n",
        "    synthetic_dataset = generator.generate_with_langchain_docs(\n",
        "        documents, num_questions, distributions, with_debugging_logs=False\n",
        "    )\n",
        "    synthetic_dataset.to_pandas().to_csv(\"synthetic_dataset.csv\", index=False)\n",
        "    \n",
        "    # Save dataset for future use\n",
        "    with open(output_path, 'wb') as f:\n",
        "        pickle.dump(synthetic_dataset, f)\n",
        "    \n",
        "    print(f\"Synthetic dataset created and saved at {output_path}\")\n",
        "    return synthetic_dataset\n",
        "\n",
        "# Function to load the dataset if already saved\n",
        "def load_synthetic_dataset(input_path='dataset.pkl'):\n",
        "    if os.path.exists(input_path):\n",
        "        with open(input_path, 'rb') as f:\n",
        "            dataset = pickle.load(f)\n",
        "        print(f\"Loaded dataset from {input_path}\")\n",
        "        return dataset\n",
        "    else:\n",
        "        print(f\"No dataset found at {input_path}, please create one.\")\n",
        "        return None\n",
        "\n",
        "\n",
        "# Generalized function to evaluate any retriever chain on the dataset\n",
        "def evaluate_retriever_chain(retriever_chain, questions, ground_truths):\n",
        "    responses = []\n",
        "    latencies = []\n",
        "    tokens_used = []\n",
        "    \n",
        "    for question in questions:\n",
        "        start = time.time()\n",
        "        result = retriever_chain.invoke({\"question\": question})\n",
        "        latency = time.time() - start\n",
        "        \n",
        "        responses.append(result[\"response\"].content)\n",
        "        tokens_used.append(result[\"response\"].response_metadata[\"token_usage\"][\"total_tokens\"])\n",
        "        latencies.append(latency)\n",
        "    \n",
        "    # Return as a dataset for further processing\n",
        "    return Dataset.from_dict({\n",
        "        \"questions\": questions,\n",
        "        \"answers\": responses,\n",
        "        \"ground_truths\": ground_truths,\n",
        "        \"latency\": latencies,\n",
        "        \"tokens_used\": tokens_used\n",
        "    })\n",
        "\n",
        "\n",
        "# Function to evaluate the dataset using context precision and recall metrics\n",
        "def compute_metrics(dataset):\n",
        "    metrics_result = evaluate(\n",
        "        dataset, metrics=[context_precision, context_recall]\n",
        "    )\n",
        "    return metrics_result\n",
        "\n",
        "\n",
        "# Function to merge the evaluated metrics with the response data and save to a file\n",
        "def merge_and_save_results(dataset, evaluation_metrics, output_name=\"result.csv\"):\n",
        "    response_df = dataset.to_pandas()\n",
        "    metrics_df = evaluation_metrics.to_pandas()\n",
        "    \n",
        "    # Merge the datasets on the question column\n",
        "    merged_df = pd.merge(metrics_df, response_df, left_on=\"question\", right_on=\"questions\", how=\"outer\")\n",
        "    \n",
        "    # Save the results to a CSV file\n",
        "    merged_df.to_csv(output_name, index=False)\n",
        "    print(f\"Results saved to {output_name}\")\n",
        "    return merged_df\n",
        "\n",
        "\n",
        "# Function to summarize the key metrics of different retriever methods\n",
        "def summarize_retriever_performance(datasets):\n",
        "    summaries = []\n",
        "    for dataset_name, df in datasets:\n",
        "        summary = {\n",
        "            \"Retriever Method\": dataset_name,\n",
        "            \"Average Precision\": df[\"context_precision\"].mean(),\n",
        "            \"Average Recall\": df[\"context_recall\"].mean(),\n",
        "            \"Average Latency (s)\": df[\"latency\"].mean(),\n",
        "            \"Average Tokens Used\": df[\"tokens_used\"].mean()\n",
        "        }\n",
        "        summaries.append(summary)\n",
        "    \n",
        "    summary_df = pd.DataFrame(summaries)\n",
        "    return summary_df\n",
        "\n"
      ]
    },
    {
      "cell_type": "markdown",
      "metadata": {},
      "source": [
        "## Create Golden Dataset"
      ]
    },
    {
      "cell_type": "code",
      "execution_count": null,
      "metadata": {},
      "outputs": [],
      "source": [
        "synthetic_dataset = await create_synthetic_dataset(documents)\n"
      ]
    },
    {
      "cell_type": "code",
      "execution_count": 56,
      "metadata": {},
      "outputs": [],
      "source": [
        "from datasets import Dataset\n",
        "from ragas import evaluate\n",
        "from ragas.metrics import (\n",
        "    faithfulness,\n",
        "    answer_relevancy,\n",
        "    answer_correctness,\n",
        "    context_recall,\n",
        "    context_precision,\n",
        ")\n",
        "test_df = synthetic_dataset.to_pandas()\n",
        "test_questions = test_df[\"question\"].values.tolist()\n",
        "test_groundtruths = test_df[\"ground_truth\"].values.tolist()\n",
        "\n"
      ]
    },
    {
      "cell_type": "code",
      "execution_count": 80,
      "metadata": {},
      "outputs": [],
      "source": [
        "import time\n",
        "from datasets import Dataset\n",
        "metrics = [\n",
        "        faithfulness,\n",
        "        answer_relevancy,\n",
        "        context_recall,\n",
        "        context_precision,\n",
        "        answer_correctness,\n",
        "    ]\n",
        "\n",
        "# Generalized function to evaluate any retriever chain on the dataset\n",
        "def evaluate_retrievers_chain(retriever_chain):\n",
        "    answers = []\n",
        "    contexts = []\n",
        "\n",
        "    for question in test_questions:\n",
        "        response = retriever_chain.invoke({\"question\" : question})\n",
        "        answers.append(response[\"response\"].content)\n",
        "        contexts.append([context.page_content for context in response[\"context\"]])\n",
        "    response_dataset = Dataset.from_dict({\n",
        "        \"question\" : test_questions,\n",
        "        \"answer\" : answers,\n",
        "        \"contexts\" : contexts,\n",
        "        \"ground_truth\" : test_groundtruths\n",
        "    })\n",
        "    return evaluate(response_dataset, metrics)\n"
      ]
    },
    {
      "cell_type": "code",
      "execution_count": 69,
      "metadata": {},
      "outputs": [
        {
          "data": {
            "application/vnd.jupyter.widget-view+json": {
              "model_id": "f71afab1fc124a299b116915acf2caff",
              "version_major": 2,
              "version_minor": 0
            },
            "text/plain": [
              "Evaluating:   0%|          | 0/190 [00:00<?, ?it/s]"
            ]
          },
          "metadata": {},
          "output_type": "display_data"
        }
      ],
      "source": [
        "\n",
        "# Evaluate `naive_retrieval_chain`\n",
        "retriever_dataset = evaluate_retrievers(naive_retrieval_chain)\n"
      ]
    },
    {
      "cell_type": "code",
      "execution_count": 71,
      "metadata": {},
      "outputs": [
        {
          "data": {
            "text/html": [
              "<div>\n",
              "<style scoped>\n",
              "    .dataframe tbody tr th:only-of-type {\n",
              "        vertical-align: middle;\n",
              "    }\n",
              "\n",
              "    .dataframe tbody tr th {\n",
              "        vertical-align: top;\n",
              "    }\n",
              "\n",
              "    .dataframe thead th {\n",
              "        text-align: right;\n",
              "    }\n",
              "</style>\n",
              "<table border=\"1\" class=\"dataframe\">\n",
              "  <thead>\n",
              "    <tr style=\"text-align: right;\">\n",
              "      <th></th>\n",
              "      <th>question</th>\n",
              "      <th>contexts</th>\n",
              "      <th>answer</th>\n",
              "      <th>ground_truth</th>\n",
              "      <th>faithfulness</th>\n",
              "      <th>answer_relevancy</th>\n",
              "      <th>context_recall</th>\n",
              "      <th>context_precision</th>\n",
              "      <th>answer_correctness</th>\n",
              "    </tr>\n",
              "  </thead>\n",
              "  <tbody>\n",
              "    <tr>\n",
              "      <th>0</th>\n",
              "      <td>How is the revenge theme incorporated into the...</td>\n",
              "      <td>[: 8\\nReview: In this 2nd installment of John ...</td>\n",
              "      <td>In the second John Wick film, the revenge them...</td>\n",
              "      <td>The revenge theme is incorporated into the plo...</td>\n",
              "      <td>0.666667</td>\n",
              "      <td>0.991388</td>\n",
              "      <td>1.000000</td>\n",
              "      <td>1.000000</td>\n",
              "      <td>0.988452</td>\n",
              "    </tr>\n",
              "    <tr>\n",
              "      <th>1</th>\n",
              "      <td>How do the John Wick films attempt to top each...</td>\n",
              "      <td>[: 2\\nReview: The first three John Wick films ...</td>\n",
              "      <td>The John Wick films attempt to top each other ...</td>\n",
              "      <td>Each film tries to top the one before in terms...</td>\n",
              "      <td>0.600000</td>\n",
              "      <td>0.912898</td>\n",
              "      <td>1.000000</td>\n",
              "      <td>0.805556</td>\n",
              "      <td>0.974268</td>\n",
              "    </tr>\n",
              "    <tr>\n",
              "      <th>2</th>\n",
              "      <td>How did the John Wick franchise impact the act...</td>\n",
              "      <td>[: 14\\nReview: By now you know what to expect ...</td>\n",
              "      <td>The John Wick franchise has had a significant ...</td>\n",
              "      <td>The John Wick franchise reinvigorated the acti...</td>\n",
              "      <td>1.000000</td>\n",
              "      <td>0.990201</td>\n",
              "      <td>1.000000</td>\n",
              "      <td>0.805556</td>\n",
              "      <td>0.486207</td>\n",
              "    </tr>\n",
              "    <tr>\n",
              "      <th>3</th>\n",
              "      <td>How is John Wick different from other action f...</td>\n",
              "      <td>[: 6\\nReview: John Wick is one of those few mo...</td>\n",
              "      <td>John Wick is different from other action films...</td>\n",
              "      <td>John Wick is different from other action films...</td>\n",
              "      <td>0.800000</td>\n",
              "      <td>1.000000</td>\n",
              "      <td>1.000000</td>\n",
              "      <td>0.916667</td>\n",
              "      <td>0.807121</td>\n",
              "    </tr>\n",
              "    <tr>\n",
              "      <th>4</th>\n",
              "      <td>What role do the Russian mobsters play in John...</td>\n",
              "      <td>[: 5\\nReview: Iosef's uncle still has John Wic...</td>\n",
              "      <td>The Russian mobsters play a significant role i...</td>\n",
              "      <td>The Russian mobsters play the role of antagoni...</td>\n",
              "      <td>1.000000</td>\n",
              "      <td>0.999999</td>\n",
              "      <td>1.000000</td>\n",
              "      <td>0.916667</td>\n",
              "      <td>0.738162</td>\n",
              "    </tr>\n",
              "    <tr>\n",
              "      <th>5</th>\n",
              "      <td>Why is John Wick: Chapter 2 considered an arti...</td>\n",
              "      <td>[: 12\\nReview: If there's an equivalent of cla...</td>\n",
              "      <td>John Wick: Chapter 2 is considered an artistic...</td>\n",
              "      <td>John Wick: Chapter 2 is considered an artistic...</td>\n",
              "      <td>1.000000</td>\n",
              "      <td>1.000000</td>\n",
              "      <td>1.000000</td>\n",
              "      <td>0.916667</td>\n",
              "      <td>0.807745</td>\n",
              "    </tr>\n",
              "    <tr>\n",
              "      <th>6</th>\n",
              "      <td>How does the inventiveness of the non-repetiti...</td>\n",
              "      <td>[: 19\\nReview: The inevitable third chapter of...</td>\n",
              "      <td>The inventiveness of the non-repetitive action...</td>\n",
              "      <td>The inventiveness of the non-repetitive action...</td>\n",
              "      <td>0.333333</td>\n",
              "      <td>0.958356</td>\n",
              "      <td>1.000000</td>\n",
              "      <td>0.833333</td>\n",
              "      <td>0.745073</td>\n",
              "    </tr>\n",
              "    <tr>\n",
              "      <th>7</th>\n",
              "      <td>What makes the action in the first John Wick f...</td>\n",
              "      <td>[: 5\\nReview: The first John Wick film was spe...</td>\n",
              "      <td>The action in the first John Wick film stands ...</td>\n",
              "      <td>The first John Wick film's action stands out a...</td>\n",
              "      <td>1.000000</td>\n",
              "      <td>0.960932</td>\n",
              "      <td>1.000000</td>\n",
              "      <td>1.000000</td>\n",
              "      <td>0.538815</td>\n",
              "    </tr>\n",
              "    <tr>\n",
              "      <th>8</th>\n",
              "      <td>What makes the first John Wick film unique and...</td>\n",
              "      <td>[: 5\\nReview: The first John Wick film was spe...</td>\n",
              "      <td>The first John Wick film is unique and stylish...</td>\n",
              "      <td>The first John Wick film is unique and stylish...</td>\n",
              "      <td>1.000000</td>\n",
              "      <td>0.983584</td>\n",
              "      <td>1.000000</td>\n",
              "      <td>0.916667</td>\n",
              "      <td>0.998013</td>\n",
              "    </tr>\n",
              "    <tr>\n",
              "      <th>9</th>\n",
              "      <td>What is the initial setup and main conflict in...</td>\n",
              "      <td>[: 11\\nReview: The overrated \"John Wick: Chapt...</td>\n",
              "      <td>The initial setup in \"John Wick: Chapter 2\" in...</td>\n",
              "      <td>The initial setup in \"John Wick: Chapter 2\" in...</td>\n",
              "      <td>0.800000</td>\n",
              "      <td>0.949001</td>\n",
              "      <td>1.000000</td>\n",
              "      <td>0.250000</td>\n",
              "      <td>0.511616</td>\n",
              "    </tr>\n",
              "    <tr>\n",
              "      <th>10</th>\n",
              "      <td>How is the fourth installment of 'John Wick' p...</td>\n",
              "      <td>[: 20\\nReview: In a world where movie sequels ...</td>\n",
              "      <td>Based on the reviews provided, it seems that t...</td>\n",
              "      <td>The fourth installment of 'John Wick' is scori...</td>\n",
              "      <td>0.800000</td>\n",
              "      <td>0.000000</td>\n",
              "      <td>1.000000</td>\n",
              "      <td>1.000000</td>\n",
              "      <td>0.225530</td>\n",
              "    </tr>\n",
              "    <tr>\n",
              "      <th>11</th>\n",
              "      <td>What makes the movie John Wick a \"ride of your...</td>\n",
              "      <td>[: 22\\nReview: Lets contemplate about componen...</td>\n",
              "      <td>The movie John Wick is considered a \"ride of y...</td>\n",
              "      <td>The movie John Wick is a 'ride of your life' f...</td>\n",
              "      <td>1.000000</td>\n",
              "      <td>0.986637</td>\n",
              "      <td>1.000000</td>\n",
              "      <td>1.000000</td>\n",
              "      <td>0.887027</td>\n",
              "    </tr>\n",
              "    <tr>\n",
              "      <th>12</th>\n",
              "      <td>How does John Wick: Chapter 2 succeed immensel...</td>\n",
              "      <td>[: 7\\nReview: This review of John Wick: Chapte...</td>\n",
              "      <td>John Wick: Chapter 2 succeeds immensely despit...</td>\n",
              "      <td>The answer to given question is not present in...</td>\n",
              "      <td>0.750000</td>\n",
              "      <td>0.900968</td>\n",
              "      <td>1.000000</td>\n",
              "      <td>0.000000</td>\n",
              "      <td>0.339453</td>\n",
              "    </tr>\n",
              "    <tr>\n",
              "      <th>13</th>\n",
              "      <td>What aspects of the action sequences in the th...</td>\n",
              "      <td>[: 19\\nReview: The inevitable third chapter of...</td>\n",
              "      <td>The inventiveness of the non-repetitive action...</td>\n",
              "      <td>The action sequences in the third JOHN WICK fi...</td>\n",
              "      <td>0.777778</td>\n",
              "      <td>0.924689</td>\n",
              "      <td>1.000000</td>\n",
              "      <td>0.833333</td>\n",
              "      <td>0.706189</td>\n",
              "    </tr>\n",
              "    <tr>\n",
              "      <th>14</th>\n",
              "      <td>What made the first John Wick film stand out f...</td>\n",
              "      <td>[: 7\\nReview: John Wick (2014) is the best rev...</td>\n",
              "      <td>The first John Wick film stood out from other ...</td>\n",
              "      <td>The first John Wick film stood out from other ...</td>\n",
              "      <td>1.000000</td>\n",
              "      <td>0.990389</td>\n",
              "      <td>0.750000</td>\n",
              "      <td>0.750000</td>\n",
              "      <td>0.799941</td>\n",
              "    </tr>\n",
              "    <tr>\n",
              "      <th>15</th>\n",
              "      <td>What events lead to John Wick being revealed a...</td>\n",
              "      <td>[: 22\\nReview: Lets contemplate about componen...</td>\n",
              "      <td>John Wick is revealed as a super-assassin thro...</td>\n",
              "      <td>John Wick is revealed as a super-assassin afte...</td>\n",
              "      <td>0.750000</td>\n",
              "      <td>0.908457</td>\n",
              "      <td>0.000000</td>\n",
              "      <td>0.000000</td>\n",
              "      <td>0.356154</td>\n",
              "    </tr>\n",
              "    <tr>\n",
              "      <th>16</th>\n",
              "      <td>What makes the John Wick movies described as u...</td>\n",
              "      <td>[: 3\\nReview: These John Wick movies can be so...</td>\n",
              "      <td>I'm sorry, I don't know why some people may de...</td>\n",
              "      <td>The John Wick movies are described as unintell...</td>\n",
              "      <td>0.500000</td>\n",
              "      <td>0.000000</td>\n",
              "      <td>1.000000</td>\n",
              "      <td>0.750000</td>\n",
              "      <td>0.528292</td>\n",
              "    </tr>\n",
              "    <tr>\n",
              "      <th>17</th>\n",
              "      <td>What role does the horde of assassins play in ...</td>\n",
              "      <td>[: 12\\nReview: If there's an equivalent of cla...</td>\n",
              "      <td>The horde of assassins in John Wick: Chapter 2...</td>\n",
              "      <td>The horde of assassins in John Wick: Chapter 2...</td>\n",
              "      <td>0.250000</td>\n",
              "      <td>0.972016</td>\n",
              "      <td>1.000000</td>\n",
              "      <td>1.000000</td>\n",
              "      <td>0.455079</td>\n",
              "    </tr>\n",
              "    <tr>\n",
              "      <th>18</th>\n",
              "      <td>What does Santino D'Antonio hope to achieve by...</td>\n",
              "      <td>[: 20\\nReview: After resolving his issues with...</td>\n",
              "      <td>Santino D'Antonio hopes to achieve sitting on ...</td>\n",
              "      <td>Santino D'Antonio hopes to sit on the High Tab...</td>\n",
              "      <td>1.000000</td>\n",
              "      <td>0.988178</td>\n",
              "      <td>1.000000</td>\n",
              "      <td>1.000000</td>\n",
              "      <td>0.999478</td>\n",
              "    </tr>\n",
              "    <tr>\n",
              "      <th>19</th>\n",
              "      <td>Why is the helicopter shot of a city considere...</td>\n",
              "      <td>[: 22\\nReview: All the below are non-creative ...</td>\n",
              "      <td>The helicopter shot of a city is considered a ...</td>\n",
              "      <td>The helicopter shot of a city is considered a ...</td>\n",
              "      <td>0.166667</td>\n",
              "      <td>1.000000</td>\n",
              "      <td>1.000000</td>\n",
              "      <td>1.000000</td>\n",
              "      <td>0.390287</td>\n",
              "    </tr>\n",
              "    <tr>\n",
              "      <th>20</th>\n",
              "      <td>How do Keanu Reeves and the film's action styl...</td>\n",
              "      <td>[: 19\\nReview: John Wick: Chapter 4 picks up w...</td>\n",
              "      <td>Keanu Reeves and the film's action style make ...</td>\n",
              "      <td>Keanu Reeves' performance as the titular chara...</td>\n",
              "      <td>0.800000</td>\n",
              "      <td>0.939779</td>\n",
              "      <td>0.666667</td>\n",
              "      <td>0.916667</td>\n",
              "      <td>0.658259</td>\n",
              "    </tr>\n",
              "    <tr>\n",
              "      <th>21</th>\n",
              "      <td>How does John Wick go from getting his car to ...</td>\n",
              "      <td>[: 17\\nReview: Picking up where the first movi...</td>\n",
              "      <td>John Wick goes from getting his car back to fa...</td>\n",
              "      <td>John Wick retrieves his car from Iosef's uncle...</td>\n",
              "      <td>0.333333</td>\n",
              "      <td>0.910695</td>\n",
              "      <td>0.000000</td>\n",
              "      <td>0.805556</td>\n",
              "      <td>0.646351</td>\n",
              "    </tr>\n",
              "    <tr>\n",
              "      <th>22</th>\n",
              "      <td>What trouble does John Wick face with The Marq...</td>\n",
              "      <td>[: 20\\nReview: After resolving his issues with...</td>\n",
              "      <td>John Wick faces trouble with The Marquis' powe...</td>\n",
              "      <td>The context does not provide specific details ...</td>\n",
              "      <td>0.769231</td>\n",
              "      <td>0.966089</td>\n",
              "      <td>1.000000</td>\n",
              "      <td>0.000000</td>\n",
              "      <td>0.328061</td>\n",
              "    </tr>\n",
              "    <tr>\n",
              "      <th>23</th>\n",
              "      <td>How do a stolen car and old debt lead to John ...</td>\n",
              "      <td>[: 19\\nReview: If you've seen the first John W...</td>\n",
              "      <td>In the sequel, a stolen car and an old debt le...</td>\n",
              "      <td>In the sequel, John Wick's travels and confron...</td>\n",
              "      <td>1.000000</td>\n",
              "      <td>0.921930</td>\n",
              "      <td>1.000000</td>\n",
              "      <td>1.000000</td>\n",
              "      <td>0.995862</td>\n",
              "    </tr>\n",
              "    <tr>\n",
              "      <th>24</th>\n",
              "      <td>How does the reviewer's view of 'John Wick' ch...</td>\n",
              "      <td>[: 20\\nReview: In a world where movie sequels ...</td>\n",
              "      <td>The reviewer's view of 'John Wick' changes ove...</td>\n",
              "      <td>The reviewer's view of 'John Wick' changes fro...</td>\n",
              "      <td>0.833333</td>\n",
              "      <td>0.963332</td>\n",
              "      <td>1.000000</td>\n",
              "      <td>1.000000</td>\n",
              "      <td>0.872607</td>\n",
              "    </tr>\n",
              "    <tr>\n",
              "      <th>25</th>\n",
              "      <td>What makes John Wick's world-building and acti...</td>\n",
              "      <td>[: 22\\nReview: Lets contemplate about componen...</td>\n",
              "      <td>John Wick's world-building and action are so i...</td>\n",
              "      <td>The first John Wick film was a cartoonish acti...</td>\n",
              "      <td>0.500000</td>\n",
              "      <td>0.960300</td>\n",
              "      <td>0.000000</td>\n",
              "      <td>0.500000</td>\n",
              "      <td>0.474061</td>\n",
              "    </tr>\n",
              "    <tr>\n",
              "      <th>26</th>\n",
              "      <td>How do Keanu Reeves' role and the film's chore...</td>\n",
              "      <td>[: 19\\nReview: John Wick: Chapter 4 picks up w...</td>\n",
              "      <td>Keanu Reeves' role as John Wick and the film's...</td>\n",
              "      <td>Keanu Reeves' role as John Wick and the film's...</td>\n",
              "      <td>0.400000</td>\n",
              "      <td>0.963003</td>\n",
              "      <td>0.250000</td>\n",
              "      <td>1.000000</td>\n",
              "      <td>0.670516</td>\n",
              "    </tr>\n",
              "    <tr>\n",
              "      <th>27</th>\n",
              "      <td>What drives John Wick to face a crime lord des...</td>\n",
              "      <td>[: 5\\nReview: Iosef's uncle still has John Wic...</td>\n",
              "      <td>John Wick is driven to face the crime lord des...</td>\n",
              "      <td>John Wick is driven to face the crime lord San...</td>\n",
              "      <td>0.750000</td>\n",
              "      <td>0.947003</td>\n",
              "      <td>1.000000</td>\n",
              "      <td>1.000000</td>\n",
              "      <td>0.590269</td>\n",
              "    </tr>\n",
              "    <tr>\n",
              "      <th>28</th>\n",
              "      <td>How did Keanu Reeves' action skills elevate Jo...</td>\n",
              "      <td>[: 19\\nReview: If you've seen the first John W...</td>\n",
              "      <td>Keanu Reeves' action skills elevated John Wick...</td>\n",
              "      <td>Keanu Reeves' knowledge of the technical aspec...</td>\n",
              "      <td>0.000000</td>\n",
              "      <td>0.975824</td>\n",
              "      <td>0.000000</td>\n",
              "      <td>0.583333</td>\n",
              "      <td>0.897261</td>\n",
              "    </tr>\n",
              "    <tr>\n",
              "      <th>29</th>\n",
              "      <td>How do revenge plot and Keanu Reeves boost Joh...</td>\n",
              "      <td>[: 0\\nReview: The best way I can describe John...</td>\n",
              "      <td>The revenge plot in John Wick, where Keanu Ree...</td>\n",
              "      <td>The revenge plot in John Wick, where the prota...</td>\n",
              "      <td>1.000000</td>\n",
              "      <td>0.906774</td>\n",
              "      <td>0.666667</td>\n",
              "      <td>1.000000</td>\n",
              "      <td>0.843149</td>\n",
              "    </tr>\n",
              "    <tr>\n",
              "      <th>30</th>\n",
              "      <td>What factors lead to criticism of American act...</td>\n",
              "      <td>[: 22\\nReview: Lets contemplate about componen...</td>\n",
              "      <td>Factors that lead to criticism of American act...</td>\n",
              "      <td>American action films are often criticized for...</td>\n",
              "      <td>0.500000</td>\n",
              "      <td>0.950003</td>\n",
              "      <td>0.666667</td>\n",
              "      <td>1.000000</td>\n",
              "      <td>0.891858</td>\n",
              "    </tr>\n",
              "    <tr>\n",
              "      <th>31</th>\n",
              "      <td>How do game-like foes shape the artful violenc...</td>\n",
              "      <td>[: 11\\nReview: Who needs a 2hr and 40 min acti...</td>\n",
              "      <td>I'm sorry, but I don't have access to specific...</td>\n",
              "      <td>Game-like foes contribute to the artful violen...</td>\n",
              "      <td>0.000000</td>\n",
              "      <td>0.000000</td>\n",
              "      <td>0.000000</td>\n",
              "      <td>0.000000</td>\n",
              "      <td>0.215701</td>\n",
              "    </tr>\n",
              "    <tr>\n",
              "      <th>32</th>\n",
              "      <td>How do horses and cinema add to 'John Wick 3' ...</td>\n",
              "      <td>[: 11\\nReview: Who needs a 2hr and 40 min acti...</td>\n",
              "      <td>I am sorry, but there is no mention of horses ...</td>\n",
              "      <td>The context mentions a scene from 'John Wick: ...</td>\n",
              "      <td>1.000000</td>\n",
              "      <td>0.000000</td>\n",
              "      <td>0.000000</td>\n",
              "      <td>0.416667</td>\n",
              "      <td>0.211156</td>\n",
              "    </tr>\n",
              "    <tr>\n",
              "      <th>33</th>\n",
              "      <td>What's the reviewer's take on the entertainmen...</td>\n",
              "      <td>[: 16\\nReview: John Wick Chapter 2 pits Keanu ...</td>\n",
              "      <td>Based on the reviews provided, the John Wick s...</td>\n",
              "      <td>The reviewer finds the John Wick movies to be ...</td>\n",
              "      <td>1.000000</td>\n",
              "      <td>0.978848</td>\n",
              "      <td>0.250000</td>\n",
              "      <td>0.333333</td>\n",
              "      <td>0.728566</td>\n",
              "    </tr>\n",
              "    <tr>\n",
              "      <th>34</th>\n",
              "      <td>How does 'John Wick' keep a 7.4 IMDb rating de...</td>\n",
              "      <td>[: 20\\nReview: In a world where movie sequels ...</td>\n",
              "      <td>The 'John Wick' series has managed to maintain...</td>\n",
              "      <td>The 'John Wick' series has remained remarkably...</td>\n",
              "      <td>0.666667</td>\n",
              "      <td>0.959475</td>\n",
              "      <td>1.000000</td>\n",
              "      <td>1.000000</td>\n",
              "      <td>0.839561</td>\n",
              "    </tr>\n",
              "    <tr>\n",
              "      <th>35</th>\n",
              "      <td>How do the first two John Wick films mix actio...</td>\n",
              "      <td>[: 11\\nReview: Who needs a 2hr and 40 min acti...</td>\n",
              "      <td>I don't know.</td>\n",
              "      <td>The first two John Wick movies are described a...</td>\n",
              "      <td>0.000000</td>\n",
              "      <td>0.000000</td>\n",
              "      <td>0.000000</td>\n",
              "      <td>0.000000</td>\n",
              "      <td>0.682546</td>\n",
              "    </tr>\n",
              "    <tr>\n",
              "      <th>36</th>\n",
              "      <td>Which film's fight scenes and cinematography a...</td>\n",
              "      <td>[: 19\\nReview: I really don't understand the l...</td>\n",
              "      <td>The film \"John Wick 4\" is praised for its figh...</td>\n",
              "      <td>The film 'John Wick' is praised for its fight ...</td>\n",
              "      <td>0.500000</td>\n",
              "      <td>0.865326</td>\n",
              "      <td>1.000000</td>\n",
              "      <td>0.750000</td>\n",
              "      <td>0.746216</td>\n",
              "    </tr>\n",
              "    <tr>\n",
              "      <th>37</th>\n",
              "      <td>Which franchise, like John Wick, shines in scr...</td>\n",
              "      <td>[: 21\\nReview: He fights and bites, he fights ...</td>\n",
              "      <td>I'm sorry, I don't know the answer to that que...</td>\n",
              "      <td>Mission Impossible</td>\n",
              "      <td>0.000000</td>\n",
              "      <td>0.000000</td>\n",
              "      <td>0.000000</td>\n",
              "      <td>0.000000</td>\n",
              "      <td>0.192232</td>\n",
              "    </tr>\n",
              "  </tbody>\n",
              "</table>\n",
              "</div>"
            ],
            "text/plain": [
              "                                             question  \\\n",
              "0   How is the revenge theme incorporated into the...   \n",
              "1   How do the John Wick films attempt to top each...   \n",
              "2   How did the John Wick franchise impact the act...   \n",
              "3   How is John Wick different from other action f...   \n",
              "4   What role do the Russian mobsters play in John...   \n",
              "5   Why is John Wick: Chapter 2 considered an arti...   \n",
              "6   How does the inventiveness of the non-repetiti...   \n",
              "7   What makes the action in the first John Wick f...   \n",
              "8   What makes the first John Wick film unique and...   \n",
              "9   What is the initial setup and main conflict in...   \n",
              "10  How is the fourth installment of 'John Wick' p...   \n",
              "11  What makes the movie John Wick a \"ride of your...   \n",
              "12  How does John Wick: Chapter 2 succeed immensel...   \n",
              "13  What aspects of the action sequences in the th...   \n",
              "14  What made the first John Wick film stand out f...   \n",
              "15  What events lead to John Wick being revealed a...   \n",
              "16  What makes the John Wick movies described as u...   \n",
              "17  What role does the horde of assassins play in ...   \n",
              "18  What does Santino D'Antonio hope to achieve by...   \n",
              "19  Why is the helicopter shot of a city considere...   \n",
              "20  How do Keanu Reeves and the film's action styl...   \n",
              "21  How does John Wick go from getting his car to ...   \n",
              "22  What trouble does John Wick face with The Marq...   \n",
              "23  How do a stolen car and old debt lead to John ...   \n",
              "24  How does the reviewer's view of 'John Wick' ch...   \n",
              "25  What makes John Wick's world-building and acti...   \n",
              "26  How do Keanu Reeves' role and the film's chore...   \n",
              "27  What drives John Wick to face a crime lord des...   \n",
              "28  How did Keanu Reeves' action skills elevate Jo...   \n",
              "29  How do revenge plot and Keanu Reeves boost Joh...   \n",
              "30  What factors lead to criticism of American act...   \n",
              "31  How do game-like foes shape the artful violenc...   \n",
              "32  How do horses and cinema add to 'John Wick 3' ...   \n",
              "33  What's the reviewer's take on the entertainmen...   \n",
              "34  How does 'John Wick' keep a 7.4 IMDb rating de...   \n",
              "35  How do the first two John Wick films mix actio...   \n",
              "36  Which film's fight scenes and cinematography a...   \n",
              "37  Which franchise, like John Wick, shines in scr...   \n",
              "\n",
              "                                             contexts  \\\n",
              "0   [: 8\\nReview: In this 2nd installment of John ...   \n",
              "1   [: 2\\nReview: The first three John Wick films ...   \n",
              "2   [: 14\\nReview: By now you know what to expect ...   \n",
              "3   [: 6\\nReview: John Wick is one of those few mo...   \n",
              "4   [: 5\\nReview: Iosef's uncle still has John Wic...   \n",
              "5   [: 12\\nReview: If there's an equivalent of cla...   \n",
              "6   [: 19\\nReview: The inevitable third chapter of...   \n",
              "7   [: 5\\nReview: The first John Wick film was spe...   \n",
              "8   [: 5\\nReview: The first John Wick film was spe...   \n",
              "9   [: 11\\nReview: The overrated \"John Wick: Chapt...   \n",
              "10  [: 20\\nReview: In a world where movie sequels ...   \n",
              "11  [: 22\\nReview: Lets contemplate about componen...   \n",
              "12  [: 7\\nReview: This review of John Wick: Chapte...   \n",
              "13  [: 19\\nReview: The inevitable third chapter of...   \n",
              "14  [: 7\\nReview: John Wick (2014) is the best rev...   \n",
              "15  [: 22\\nReview: Lets contemplate about componen...   \n",
              "16  [: 3\\nReview: These John Wick movies can be so...   \n",
              "17  [: 12\\nReview: If there's an equivalent of cla...   \n",
              "18  [: 20\\nReview: After resolving his issues with...   \n",
              "19  [: 22\\nReview: All the below are non-creative ...   \n",
              "20  [: 19\\nReview: John Wick: Chapter 4 picks up w...   \n",
              "21  [: 17\\nReview: Picking up where the first movi...   \n",
              "22  [: 20\\nReview: After resolving his issues with...   \n",
              "23  [: 19\\nReview: If you've seen the first John W...   \n",
              "24  [: 20\\nReview: In a world where movie sequels ...   \n",
              "25  [: 22\\nReview: Lets contemplate about componen...   \n",
              "26  [: 19\\nReview: John Wick: Chapter 4 picks up w...   \n",
              "27  [: 5\\nReview: Iosef's uncle still has John Wic...   \n",
              "28  [: 19\\nReview: If you've seen the first John W...   \n",
              "29  [: 0\\nReview: The best way I can describe John...   \n",
              "30  [: 22\\nReview: Lets contemplate about componen...   \n",
              "31  [: 11\\nReview: Who needs a 2hr and 40 min acti...   \n",
              "32  [: 11\\nReview: Who needs a 2hr and 40 min acti...   \n",
              "33  [: 16\\nReview: John Wick Chapter 2 pits Keanu ...   \n",
              "34  [: 20\\nReview: In a world where movie sequels ...   \n",
              "35  [: 11\\nReview: Who needs a 2hr and 40 min acti...   \n",
              "36  [: 19\\nReview: I really don't understand the l...   \n",
              "37  [: 21\\nReview: He fights and bites, he fights ...   \n",
              "\n",
              "                                               answer  \\\n",
              "0   In the second John Wick film, the revenge them...   \n",
              "1   The John Wick films attempt to top each other ...   \n",
              "2   The John Wick franchise has had a significant ...   \n",
              "3   John Wick is different from other action films...   \n",
              "4   The Russian mobsters play a significant role i...   \n",
              "5   John Wick: Chapter 2 is considered an artistic...   \n",
              "6   The inventiveness of the non-repetitive action...   \n",
              "7   The action in the first John Wick film stands ...   \n",
              "8   The first John Wick film is unique and stylish...   \n",
              "9   The initial setup in \"John Wick: Chapter 2\" in...   \n",
              "10  Based on the reviews provided, it seems that t...   \n",
              "11  The movie John Wick is considered a \"ride of y...   \n",
              "12  John Wick: Chapter 2 succeeds immensely despit...   \n",
              "13  The inventiveness of the non-repetitive action...   \n",
              "14  The first John Wick film stood out from other ...   \n",
              "15  John Wick is revealed as a super-assassin thro...   \n",
              "16  I'm sorry, I don't know why some people may de...   \n",
              "17  The horde of assassins in John Wick: Chapter 2...   \n",
              "18  Santino D'Antonio hopes to achieve sitting on ...   \n",
              "19  The helicopter shot of a city is considered a ...   \n",
              "20  Keanu Reeves and the film's action style make ...   \n",
              "21  John Wick goes from getting his car back to fa...   \n",
              "22  John Wick faces trouble with The Marquis' powe...   \n",
              "23  In the sequel, a stolen car and an old debt le...   \n",
              "24  The reviewer's view of 'John Wick' changes ove...   \n",
              "25  John Wick's world-building and action are so i...   \n",
              "26  Keanu Reeves' role as John Wick and the film's...   \n",
              "27  John Wick is driven to face the crime lord des...   \n",
              "28  Keanu Reeves' action skills elevated John Wick...   \n",
              "29  The revenge plot in John Wick, where Keanu Ree...   \n",
              "30  Factors that lead to criticism of American act...   \n",
              "31  I'm sorry, but I don't have access to specific...   \n",
              "32  I am sorry, but there is no mention of horses ...   \n",
              "33  Based on the reviews provided, the John Wick s...   \n",
              "34  The 'John Wick' series has managed to maintain...   \n",
              "35                                      I don't know.   \n",
              "36  The film \"John Wick 4\" is praised for its figh...   \n",
              "37  I'm sorry, I don't know the answer to that que...   \n",
              "\n",
              "                                         ground_truth  faithfulness  \\\n",
              "0   The revenge theme is incorporated into the plo...      0.666667   \n",
              "1   Each film tries to top the one before in terms...      0.600000   \n",
              "2   The John Wick franchise reinvigorated the acti...      1.000000   \n",
              "3   John Wick is different from other action films...      0.800000   \n",
              "4   The Russian mobsters play the role of antagoni...      1.000000   \n",
              "5   John Wick: Chapter 2 is considered an artistic...      1.000000   \n",
              "6   The inventiveness of the non-repetitive action...      0.333333   \n",
              "7   The first John Wick film's action stands out a...      1.000000   \n",
              "8   The first John Wick film is unique and stylish...      1.000000   \n",
              "9   The initial setup in \"John Wick: Chapter 2\" in...      0.800000   \n",
              "10  The fourth installment of 'John Wick' is scori...      0.800000   \n",
              "11  The movie John Wick is a 'ride of your life' f...      1.000000   \n",
              "12  The answer to given question is not present in...      0.750000   \n",
              "13  The action sequences in the third JOHN WICK fi...      0.777778   \n",
              "14  The first John Wick film stood out from other ...      1.000000   \n",
              "15  John Wick is revealed as a super-assassin afte...      0.750000   \n",
              "16  The John Wick movies are described as unintell...      0.500000   \n",
              "17  The horde of assassins in John Wick: Chapter 2...      0.250000   \n",
              "18  Santino D'Antonio hopes to sit on the High Tab...      1.000000   \n",
              "19  The helicopter shot of a city is considered a ...      0.166667   \n",
              "20  Keanu Reeves' performance as the titular chara...      0.800000   \n",
              "21  John Wick retrieves his car from Iosef's uncle...      0.333333   \n",
              "22  The context does not provide specific details ...      0.769231   \n",
              "23  In the sequel, John Wick's travels and confron...      1.000000   \n",
              "24  The reviewer's view of 'John Wick' changes fro...      0.833333   \n",
              "25  The first John Wick film was a cartoonish acti...      0.500000   \n",
              "26  Keanu Reeves' role as John Wick and the film's...      0.400000   \n",
              "27  John Wick is driven to face the crime lord San...      0.750000   \n",
              "28  Keanu Reeves' knowledge of the technical aspec...      0.000000   \n",
              "29  The revenge plot in John Wick, where the prota...      1.000000   \n",
              "30  American action films are often criticized for...      0.500000   \n",
              "31  Game-like foes contribute to the artful violen...      0.000000   \n",
              "32  The context mentions a scene from 'John Wick: ...      1.000000   \n",
              "33  The reviewer finds the John Wick movies to be ...      1.000000   \n",
              "34  The 'John Wick' series has remained remarkably...      0.666667   \n",
              "35  The first two John Wick movies are described a...      0.000000   \n",
              "36  The film 'John Wick' is praised for its fight ...      0.500000   \n",
              "37                                 Mission Impossible      0.000000   \n",
              "\n",
              "    answer_relevancy  context_recall  context_precision  answer_correctness  \n",
              "0           0.991388        1.000000           1.000000            0.988452  \n",
              "1           0.912898        1.000000           0.805556            0.974268  \n",
              "2           0.990201        1.000000           0.805556            0.486207  \n",
              "3           1.000000        1.000000           0.916667            0.807121  \n",
              "4           0.999999        1.000000           0.916667            0.738162  \n",
              "5           1.000000        1.000000           0.916667            0.807745  \n",
              "6           0.958356        1.000000           0.833333            0.745073  \n",
              "7           0.960932        1.000000           1.000000            0.538815  \n",
              "8           0.983584        1.000000           0.916667            0.998013  \n",
              "9           0.949001        1.000000           0.250000            0.511616  \n",
              "10          0.000000        1.000000           1.000000            0.225530  \n",
              "11          0.986637        1.000000           1.000000            0.887027  \n",
              "12          0.900968        1.000000           0.000000            0.339453  \n",
              "13          0.924689        1.000000           0.833333            0.706189  \n",
              "14          0.990389        0.750000           0.750000            0.799941  \n",
              "15          0.908457        0.000000           0.000000            0.356154  \n",
              "16          0.000000        1.000000           0.750000            0.528292  \n",
              "17          0.972016        1.000000           1.000000            0.455079  \n",
              "18          0.988178        1.000000           1.000000            0.999478  \n",
              "19          1.000000        1.000000           1.000000            0.390287  \n",
              "20          0.939779        0.666667           0.916667            0.658259  \n",
              "21          0.910695        0.000000           0.805556            0.646351  \n",
              "22          0.966089        1.000000           0.000000            0.328061  \n",
              "23          0.921930        1.000000           1.000000            0.995862  \n",
              "24          0.963332        1.000000           1.000000            0.872607  \n",
              "25          0.960300        0.000000           0.500000            0.474061  \n",
              "26          0.963003        0.250000           1.000000            0.670516  \n",
              "27          0.947003        1.000000           1.000000            0.590269  \n",
              "28          0.975824        0.000000           0.583333            0.897261  \n",
              "29          0.906774        0.666667           1.000000            0.843149  \n",
              "30          0.950003        0.666667           1.000000            0.891858  \n",
              "31          0.000000        0.000000           0.000000            0.215701  \n",
              "32          0.000000        0.000000           0.416667            0.211156  \n",
              "33          0.978848        0.250000           0.333333            0.728566  \n",
              "34          0.959475        1.000000           1.000000            0.839561  \n",
              "35          0.000000        0.000000           0.000000            0.682546  \n",
              "36          0.865326        1.000000           0.750000            0.746216  \n",
              "37          0.000000        0.000000           0.000000            0.192232  "
            ]
          },
          "execution_count": 71,
          "metadata": {},
          "output_type": "execute_result"
        }
      ],
      "source": [
        "naive_retrieval_evaluation_result = retriever_dataset.to_pandas()\n",
        "naive_retrieval_evaluation_result\n"
      ]
    },
    {
      "cell_type": "code",
      "execution_count": 85,
      "metadata": {},
      "outputs": [],
      "source": [
        "os.environ[\"COHERE_API_KEY\"] = getpass.getpass(\"Cohere API Key:\")"
      ]
    },
    {
      "cell_type": "code",
      "execution_count": 95,
      "metadata": {},
      "outputs": [],
      "source": [
        "retrievers_chain_mapping = {\n",
        "    \"naive_retriever\": naive_retrieval_chain,\n",
        "    \"contextual_compression_retriever\": contextual_compression_retrieval_chain,\n",
        "    \"multi_query_retriever\": multi_query_retrieval_chain,\n",
        "    \"parent_document_retriever\": parent_document_retrieval_chain,\n",
        "    \"ensemble_retriever\": ensemble_retrieval_chain,\n",
        "    \"semantic_retriever\": semantic_retrieval_chain,\n",
        "}\n",
        "def run_all(retrievers):\n",
        "    output = {}\n",
        "    \n",
        "    for retriever_name, retriever_chain in retrievers.items():\n",
        "        print(f\"Evaluating {retriever_name}...\")\n",
        "        \n",
        "        # Run the evaluation for the current retriever chain\n",
        "        evaluation_result = evaluate_retrievers_chain(retriever_chain)\n",
        "        \n",
        "        # Save the evaluation result in the output dictionary\n",
        "        output[retriever_name] = evaluation_result\n",
        "    \n",
        "    return output"
      ]
    },
    {
      "cell_type": "code",
      "execution_count": 96,
      "metadata": {},
      "outputs": [
        {
          "name": "stdout",
          "output_type": "stream",
          "text": [
            "Evaluating naive_retriever...\n"
          ]
        },
        {
          "data": {
            "application/vnd.jupyter.widget-view+json": {
              "model_id": "e5809e7d0e0a4f4791dcc9c0e62ae05d",
              "version_major": 2,
              "version_minor": 0
            },
            "text/plain": [
              "Evaluating:   0%|          | 0/190 [00:00<?, ?it/s]"
            ]
          },
          "metadata": {},
          "output_type": "display_data"
        },
        {
          "name": "stdout",
          "output_type": "stream",
          "text": [
            "Evaluating contextual_compression_retriever...\n"
          ]
        },
        {
          "data": {
            "application/vnd.jupyter.widget-view+json": {
              "model_id": "9b7ea956595344aba4b66d42d0dc9d07",
              "version_major": 2,
              "version_minor": 0
            },
            "text/plain": [
              "Evaluating:   0%|          | 0/190 [00:00<?, ?it/s]"
            ]
          },
          "metadata": {},
          "output_type": "display_data"
        },
        {
          "name": "stdout",
          "output_type": "stream",
          "text": [
            "Evaluating multi_query_retriever...\n"
          ]
        },
        {
          "data": {
            "application/vnd.jupyter.widget-view+json": {
              "model_id": "7727004a348c427aa524286628414c8a",
              "version_major": 2,
              "version_minor": 0
            },
            "text/plain": [
              "Evaluating:   0%|          | 0/190 [00:00<?, ?it/s]"
            ]
          },
          "metadata": {},
          "output_type": "display_data"
        },
        {
          "name": "stdout",
          "output_type": "stream",
          "text": [
            "Evaluating parent_document_retriever...\n"
          ]
        },
        {
          "data": {
            "application/vnd.jupyter.widget-view+json": {
              "model_id": "9cbd4413470041398dc31e78bc1803c4",
              "version_major": 2,
              "version_minor": 0
            },
            "text/plain": [
              "Evaluating:   0%|          | 0/190 [00:00<?, ?it/s]"
            ]
          },
          "metadata": {},
          "output_type": "display_data"
        },
        {
          "name": "stdout",
          "output_type": "stream",
          "text": [
            "Evaluating ensemble_retriever...\n"
          ]
        },
        {
          "data": {
            "application/vnd.jupyter.widget-view+json": {
              "model_id": "6d9500169764449aa85a223e488af88d",
              "version_major": 2,
              "version_minor": 0
            },
            "text/plain": [
              "Evaluating:   0%|          | 0/190 [00:00<?, ?it/s]"
            ]
          },
          "metadata": {},
          "output_type": "display_data"
        },
        {
          "name": "stdout",
          "output_type": "stream",
          "text": [
            "Evaluating semantic_retriever...\n"
          ]
        },
        {
          "data": {
            "application/vnd.jupyter.widget-view+json": {
              "model_id": "a545ebaf757049928921dc645e266988",
              "version_major": 2,
              "version_minor": 0
            },
            "text/plain": [
              "Evaluating:   0%|          | 0/190 [00:00<?, ?it/s]"
            ]
          },
          "metadata": {},
          "output_type": "display_data"
        }
      ],
      "source": [
        "accumlated_evaluation_results = run_all(retrievers_chain_mapping)"
      ]
    },
    {
      "cell_type": "code",
      "execution_count": 97,
      "metadata": {},
      "outputs": [
        {
          "data": {
            "image/png": "[encoded data removed]",
            "text/plain": [
              "<Figure size 1000x600 with 1 Axes>"
            ]
          },
          "metadata": {},
          "output_type": "display_data"
        },
        {
          "name": "stdout",
          "output_type": "stream",
          "text": [
            "                          Retriever  faithfulness  answer_relevancy  \\\n",
            "0                   naive_retriever      0.758517          0.855564   \n",
            "1  contextual_compression_retriever      0.771279          0.905936   \n",
            "2             multi_query_retriever      0.862907          0.881699   \n",
            "3         parent_document_retriever      0.667052          0.779600   \n",
            "4                ensemble_retriever      0.804462          0.854553   \n",
            "5                semantic_retriever      0.798990          0.907218   \n",
            "\n",
            "   context_recall  context_precision  answer_correctness  \n",
            "0        0.701754           0.708333            0.652326  \n",
            "1        0.951754           0.916667            0.677241  \n",
            "2        1.000000           0.788358            0.705882  \n",
            "3        0.712719           0.901316            0.638134  \n",
            "4        0.991228           0.773232            0.628974  \n",
            "5        0.951754           0.800940            0.669000  \n"
          ]
        }
      ],
      "source": [
        "import matplotlib.pyplot as plt\n",
        "import pandas as pd\n",
        "\n",
        "# Convert the results into a DataFrame\n",
        "df = pd.DataFrame(accumlated_evaluation_results).T\n",
        "df.index.name = \"Retriever\"\n",
        "df.reset_index(inplace=True)\n",
        "\n",
        "# Plotting each metric for comparison\n",
        "plt.figure(figsize=(10, 6))\n",
        "metrics = [\"faithfulness\", \"answer_relevancy\", \"context_recall\", \"context_precision\", \"answer_correctness\"]\n",
        "\n",
        "for metric in metrics:\n",
        "    plt.plot(df[\"Retriever\"], df[metric], marker='o', label=metric)\n",
        "\n",
        "# Customize the plot\n",
        "plt.title(\"Retriever Performance Comparison\")\n",
        "plt.xlabel(\"Retrievers\")\n",
        "plt.ylabel(\"Scores\")\n",
        "plt.xticks(rotation=45)\n",
        "plt.legend(title=\"Metrics\", loc=\"best\")\n",
        "plt.grid(True)\n",
        "plt.tight_layout()\n",
        "\n",
        "# Show the plot\n",
        "plt.show()\n",
        "\n",
        "# Display the DataFrame as a table\n",
        "print(df)\n",
        "\n",
        "# Optional: Save the table to a CSV file if needed\n",
        "df.to_csv(\"retriever_performance_results.csv\", index=False)\n"
      ]
    },
    {
      "cell_type": "markdown",
      "metadata": {},
      "source": [
        "### Observations\n",
        "\n",
        "The **Multi Query Retriever** performs the best overall, achieving a high **context recall**, along with high faithfulness and answer relevancy, making it ideal for recall-heavy use cases. Its **context precision** is moderate, but it excels in retrieving relevant documents. \n",
        "\n",
        "The **Contextual Compression Retriever** is the second-best performer, with **high context recall, precision**, and strong answer relevancy, making it reliable for both accuracy and relevance.\n",
        "\n",
        "The **Semantic Retriever** ranks well due to its high **answer relevancy** and **faithfulness**, but it slightly lags behind the top two in **answer correctness** and **context precision**.\n",
        "\n",
        "In contrast, the **Parent Document Retriever** shows relatively weaker performance across most metrics, making it the least effective in this comparison. \n",
        "\n",
        "Final Observation: **Multi Query Retriever** performs the best overall, excelling in context recall and answer relevancy."
      ]
    }
  ],
  "metadata": {
    "colab": {
      "provenance": [],
      "toc_visible": true
    },
    "kernelspec": {
      "display_name": "Python 3",
      "name": "python3"
    },
    "language_info": {
      "codemirror_mode": {
        "name": "ipython",
        "version": 3
      },
      "file_extension": ".py",
      "mimetype": "text/x-python",
      "name": "python",
      "nbconvert_exporter": "python",
      "pygments_lexer": "ipython3",
      "version": "3.11.9"
    }
  },
  "nbformat": 4,
  "nbformat_minor": 0
}
